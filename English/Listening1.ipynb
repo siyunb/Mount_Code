{
  "nbformat": 4,
  "nbformat_minor": 0,
  "metadata": {
    "colab": {
      "name": "Listening.ipynb",
      "provenance": [],
      "authorship_tag": "ABX9TyPl6s7b7dHpdDl94pZ97qjz",
      "include_colab_link": true
    },
    "kernelspec": {
      "name": "python3",
      "display_name": "Python 3"
    },
    "language_info": {
      "name": "python"
    }
  },
  "cells": [
    {
      "cell_type": "markdown",
      "metadata": {
        "id": "view-in-github",
        "colab_type": "text"
      },
      "source": [
        "<a href=\"https://colab.research.google.com/github/siyunb/Mount_Code/blob/master/English/Listening1.ipynb\" target=\"_parent\"><img src=\"https://colab.research.google.com/assets/colab-badge.svg\" alt=\"Open In Colab\"/></a>"
      ]
    },
    {
      "cell_type": "code",
      "metadata": {
        "colab": {
          "base_uri": "https://localhost:8080/",
          "height": 320
        },
        "id": "oJFROj3l3m8A",
        "outputId": "496096f9-fa39-4994-a438-726f042dce7d"
      },
      "source": [
        "from IPython.display import YouTubeVideo\n",
        "YouTubeVideo('https://youtu.be/HxqB7CUA-XI')"
      ],
      "execution_count": null,
      "outputs": [
        {
          "output_type": "execute_result",
          "data": {
            "text/html": [
              "\n",
              "        <iframe\n",
              "            width=\"400\"\n",
              "            height=\"300\"\n",
              "            src=\"https://www.youtube.com/embed/https://youtu.be/HxqB7CUA-XI\"\n",
              "            frameborder=\"0\"\n",
              "            allowfullscreen\n",
              "        ></iframe>\n",
              "        "
            ],
            "text/plain": [
              "<IPython.lib.display.YouTubeVideo at 0x7f1b074ee050>"
            ]
          },
          "metadata": {},
          "execution_count": 2
        }
      ]
    }
  ]
}