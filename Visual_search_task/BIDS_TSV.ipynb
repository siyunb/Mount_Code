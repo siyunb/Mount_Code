{
 "cells": [
  {
   "cell_type": "code",
   "execution_count": 1,
   "metadata": {},
   "outputs": [],
   "source": [
    "import json, os, re\n",
    "import pickle as pkl\n",
    "import pandas as pd\n",
    "import numpy as np"
   ]
  },
  {
   "cell_type": "code",
   "execution_count": 68,
   "metadata": {},
   "outputs": [],
   "source": [
    "outputdir = '/home/neuro/Data/Visual_search_task/BIDS/Nifti'"
   ]
  },
  {
   "cell_type": "code",
   "execution_count": 69,
   "metadata": {},
   "outputs": [],
   "source": [
    "with open('/home/neuro/Result/Visual_search_task/1st_analysis/bunch/ignore_bunch_ni.pkl', 'rb') as f:\n",
    "    bunchinfo = pkl.load(f)"
   ]
  },
  {
   "cell_type": "code",
   "execution_count": 72,
   "metadata": {},
   "outputs": [],
   "source": [
    "for subj, sessions in bunchinfo.items():\n",
    "    for ses, values in sessions.items():\n",
    "        file_name = '_'.join([subj, ses[:3]+'-'+ses[-1], 'task-visualsearch', 'events'])+'.tsv'\n",
    "        output_path = os.path.join(outputdir, subj, ses[:3]+'-'+ses[-1], 'func', file_name)\n",
    "        durations = list(np.array(values.onsets[1:]) - np.array(values.onsets[:-1]))\n",
    "        durations.append(values.durations[-1])\n",
    "        durations = [round(i,1) for i in durations]\n",
    "        tsv_file = pd.DataFrame({'onset':values.onsets, \n",
    "                          'duration':durations,\n",
    "                          'trial_type':values.conditions})\n",
    "        tsv_file.to_csv(output_path, sep='\\t', index=None)"
   ]
  }
 ],
 "metadata": {
  "interpreter": {
   "hash": "994be21e1b201d82e2e6ff4fe9c977e5bc5a1eefcb4b8ab21b10332690e7696c"
  },
  "kernelspec": {
   "display_name": "Python 3 (ipykernel)",
   "language": "python",
   "name": "python3"
  },
  "language_info": {
   "codemirror_mode": {
    "name": "ipython",
    "version": 3
   },
   "file_extension": ".py",
   "mimetype": "text/x-python",
   "name": "python",
   "nbconvert_exporter": "python",
   "pygments_lexer": "ipython3",
   "version": "3.8.5"
  },
  "orig_nbformat": 4
 },
 "nbformat": 4,
 "nbformat_minor": 2
}
