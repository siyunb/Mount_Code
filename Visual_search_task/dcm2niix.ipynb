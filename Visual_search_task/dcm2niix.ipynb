{
 "cells": [
  {
   "cell_type": "code",
   "execution_count": 2,
   "metadata": {},
   "outputs": [
    {
     "name": "stdout",
     "output_type": "stream",
     "text": [
      "211109-12:34:50,394 nipype.utils WARNING:\n",
      "\t A newer version (1.7.0) of nipy/nipype is available. You are using 1.6.1\n"
     ]
    }
   ],
   "source": [
    "from nipype import Node, Workflow, IdentityInterface, Function\n",
    "from nipype.interfaces.dcm2nii import Dcm2niix\n",
    "from nipype.interfaces.io import SelectFiles, DataSink\n",
    "from os.path import join as opj\n",
    "import os\n",
    "from glob import glob"
   ]
  },
  {
   "cell_type": "code",
   "execution_count": null,
   "metadata": {},
   "outputs": [],
   "source": [
    "folder_list = os.listdir()"
   ]
  },
  {
   "cell_type": "code",
   "execution_count": null,
   "metadata": {},
   "outputs": [],
   "source": [
    "infosource = Node(IdentityInterface(fields=['folder_list']),\n",
    "                  name=\"folder_source\"\n",
    "                  )\n",
    "infosource.iterables = [('folder_list', folder_list)]"
   ]
  },
  {
   "cell_type": "code",
   "execution_count": 3,
   "metadata": {},
   "outputs": [],
   "source": [
    "SelectFiles\n",
    "converter = Node(Dcm2niix())\n",
    "DataSink\n"
   ]
  },
  {
   "cell_type": "code",
   "execution_count": null,
   "metadata": {},
   "outputs": [],
   "source": [
    "def dcm2niix(dcm_path_input, dcm_path_output, converter):\n",
    "    converter.inputs.source_dir  = dcm_path_input\n",
    "    converter.inputs.output_dir = dcm_path_output\n",
    "    converter.inputs.compress = 'n'\n",
    "    converter.inputs.philips_float = True\n",
    "    converter.run() "
   ]
  },
  {
   "cell_type": "code",
   "execution_count": null,
   "metadata": {},
   "outputs": [],
   "source": [
    "converter = Dcm2niix()\n",
    "for folder in os.listdir():\n",
    "    dcm_path_list = opj(os.getcwd(), folder, '*VSearch*', '*2019*')\n",
    "    result_dir = opj(os.getcwd(), folder, '*VSearch*')\n",
    "    for dcm_path_folder in os.listdir(glob(dcm_path_list)[0]):\n",
    "        dcm_path_input = opj(glob(dcm_path_list)[0], dcm_path_folder)\n",
    "        dcm_path_output = opj(glob(result_dir)[0], dcm_path_folder)\n",
    "        if not os.path.exists(dcm_path_output):\n",
    "            os.mkdir(dcm_path_output)\n",
    "        dcm2niix(dcm_path_input, dcm_path_output, converter)\n",
    "        print(dcm_path_output+'  finished')"
   ]
  }
 ],
 "metadata": {
  "kernelspec": {
   "display_name": "Python 3 (ipykernel)",
   "language": "python",
   "name": "python3"
  },
  "orig_nbformat": 4
 },
 "nbformat": 4,
 "nbformat_minor": 2
}
