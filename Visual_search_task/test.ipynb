{
 "cells": [
  {
   "cell_type": "code",
   "execution_count": 93,
   "metadata": {},
   "outputs": [],
   "source": [
    "from nipype import Node, Workflow, SelectFiles, Function, JoinNode, IdentityInterface, MapNode\n",
    "from nipype.interfaces.io import DataSink"
   ]
  },
  {
   "cell_type": "code",
   "execution_count": 102,
   "metadata": {},
   "outputs": [],
   "source": [
    "subj_id_list = ['%02d'%i for i in range(1, 3)]\n",
    "subj_id_node = Node(IdentityInterface(fields=['subj_id']), name='subj_id_node')\n",
    "subj_id_node.iterables = [('subj_id', subj_id_list)]"
   ]
  },
  {
   "cell_type": "code",
   "execution_count": 103,
   "metadata": {},
   "outputs": [],
   "source": [
    "templates_anat = {'anat': '/home/neuro/Data/Visual_search_task/BIDS_data/sub-{subj_id}/ses-test/anat/sub-{subj_id}_ses-test_anat_sT1W.nii'}\n",
    "selectanat = Node(SelectFiles(templates_anat, sort_filelist=True), name='selectanat')"
   ]
  },
  {
   "cell_type": "code",
   "execution_count": 104,
   "metadata": {},
   "outputs": [],
   "source": [
    "session_id_list = ['1', '2', '3', '4']\n",
    "templates_func = {'func': '/home/neuro/Result/Visual_search_task/preproc_working_dir/preproc_result/func/_subject_id_{subj_id}_task_number_{session_id}/detrend.nii.gz'}\n",
    "selectfunc = Node(SelectFiles(templates_func, sort_filelist=True), name='selectfunc')\n",
    "selectfunc.iterables = [('session_id', session_id_list)]"
   ]
  },
  {
   "cell_type": "code",
   "execution_count": 105,
   "metadata": {},
   "outputs": [],
   "source": [
    "def store_func(anat, func_list):\n",
    "    return anat, func_list\n",
    "sort_file_node = JoinNode(Function(input_names=['anat', 'func_list'], output_names=['anat', 'func_list'], function=store_func), \n",
    "                          joinfield=['func_list'], joinsource=selectfunc, name='sort_file_node')"
   ]
  },
  {
   "cell_type": "code",
   "execution_count": 110,
   "metadata": {},
   "outputs": [],
   "source": [
    "datasink = Node(DataSink(base_directory='/home/neuro/Result/Visual_search_task/test_workflow', \n",
    "                container='datasink'), name=\"datasink\")"
   ]
  },
  {
   "cell_type": "code",
   "execution_count": 111,
   "metadata": {},
   "outputs": [],
   "source": [
    "test_workflow = Workflow(base_dir='/home/neuro/Result/Visual_search_task/test_workflow', name='test_workflow')\n",
    "test_workflow.connect([(subj_id_node, selectanat, [('subj_id', 'subj_id')]),\n",
    "                       (subj_id_node, selectfunc, [('subj_id', 'subj_id')]), \n",
    "                       (selectanat, sort_file_node, [('anat', 'anat')]), \n",
    "                       (selectfunc, sort_file_node, [('func', 'func_list')]),\n",
    "                       (sort_file_node, datasink, [('anat', 'anat'), \n",
    "                                                   ('func_list', 'func_list')])\n",
    "                      ])"
   ]
  },
  {
   "cell_type": "code",
   "execution_count": 108,
   "metadata": {},
   "outputs": [
    {
     "name": "stdout",
     "output_type": "stream",
     "text": [
      "211116-08:00:21,937 nipype.workflow INFO:\n",
      "\t Generated workflow graph: /home/neuro/Result/Visual_search_task/test_workflow/test_workflow/graph.png (graph2use=exec, simple_form=True).\n"
     ]
    },
    {
     "data": {
      "text/plain": [
       "'/home/neuro/Result/Visual_search_task/test_workflow/test_workflow/graph.png'"
      ]
     },
     "execution_count": 108,
     "metadata": {},
     "output_type": "execute_result"
    }
   ],
   "source": [
    "test_workflow.write_graph(graph2use='exec', simple_form=True)"
   ]
  },
  {
   "cell_type": "code",
   "execution_count": 112,
   "metadata": {},
   "outputs": [
    {
     "name": "stdout",
     "output_type": "stream",
     "text": [
      "211116-08:05:18,383 nipype.workflow INFO:\n",
      "\t Workflow test_workflow settings: ['check', 'execution', 'logging', 'monitoring']\n",
      "211116-08:05:18,425 nipype.workflow INFO:\n",
      "\t Running serially.\n",
      "211116-08:05:18,426 nipype.workflow INFO:\n",
      "\t [Node] Setting-up \"test_workflow.selectfunc\" in \"/home/neuro/Result/Visual_search_task/test_workflow/test_workflow/_subj_id_02/_session_id_4/selectfunc\".\n",
      "211116-08:05:18,467 nipype.workflow INFO:\n",
      "\t [Node] Running \"selectfunc\" (\"nipype.interfaces.io.SelectFiles\")\n",
      "211116-08:05:18,489 nipype.workflow INFO:\n",
      "\t [Node] Finished \"test_workflow.selectfunc\".\n",
      "211116-08:05:18,490 nipype.workflow INFO:\n",
      "\t [Node] Setting-up \"test_workflow.selectfunc\" in \"/home/neuro/Result/Visual_search_task/test_workflow/test_workflow/_subj_id_02/_session_id_3/selectfunc\".\n",
      "211116-08:05:18,529 nipype.workflow INFO:\n",
      "\t [Node] Running \"selectfunc\" (\"nipype.interfaces.io.SelectFiles\")\n",
      "211116-08:05:18,551 nipype.workflow INFO:\n",
      "\t [Node] Finished \"test_workflow.selectfunc\".\n",
      "211116-08:05:18,552 nipype.workflow INFO:\n",
      "\t [Node] Setting-up \"test_workflow.selectfunc\" in \"/home/neuro/Result/Visual_search_task/test_workflow/test_workflow/_subj_id_02/_session_id_2/selectfunc\".\n",
      "211116-08:05:18,590 nipype.workflow INFO:\n",
      "\t [Node] Running \"selectfunc\" (\"nipype.interfaces.io.SelectFiles\")\n",
      "211116-08:05:18,612 nipype.workflow INFO:\n",
      "\t [Node] Finished \"test_workflow.selectfunc\".\n",
      "211116-08:05:18,613 nipype.workflow INFO:\n",
      "\t [Node] Setting-up \"test_workflow.selectfunc\" in \"/home/neuro/Result/Visual_search_task/test_workflow/test_workflow/_subj_id_02/_session_id_1/selectfunc\".\n",
      "211116-08:05:18,651 nipype.workflow INFO:\n",
      "\t [Node] Running \"selectfunc\" (\"nipype.interfaces.io.SelectFiles\")\n",
      "211116-08:05:18,674 nipype.workflow INFO:\n",
      "\t [Node] Finished \"test_workflow.selectfunc\".\n",
      "211116-08:05:18,675 nipype.workflow INFO:\n",
      "\t [Node] Setting-up \"test_workflow.selectanat\" in \"/home/neuro/Result/Visual_search_task/test_workflow/test_workflow/_subj_id_02/selectanat\".\n",
      "211116-08:05:18,711 nipype.workflow INFO:\n",
      "\t [Node] Running \"selectanat\" (\"nipype.interfaces.io.SelectFiles\")\n",
      "211116-08:05:18,734 nipype.workflow INFO:\n",
      "\t [Node] Finished \"test_workflow.selectanat\".\n",
      "211116-08:05:18,734 nipype.workflow INFO:\n",
      "\t [Node] Setting-up \"test_workflow.sort_file_node\" in \"/home/neuro/Result/Visual_search_task/test_workflow/test_workflow/_subj_id_02/sort_file_node\".\n",
      "211116-08:05:18,751 nipype.workflow INFO:\n",
      "\t [Node] Cached \"test_workflow.sort_file_node\" - collecting precomputed outputs\n",
      "211116-08:05:18,751 nipype.workflow INFO:\n",
      "\t [Node] \"test_workflow.sort_file_node\" found cached.\n",
      "211116-08:05:18,752 nipype.workflow INFO:\n",
      "\t [Node] Setting-up \"test_workflow.datasink\" in \"/home/neuro/Result/Visual_search_task/test_workflow/test_workflow/_subj_id_02/datasink\".\n",
      "211116-08:05:18,778 nipype.workflow INFO:\n",
      "\t [Node] Running \"datasink\" (\"nipype.interfaces.io.DataSink\")\n",
      "211116-08:05:19,2 nipype.workflow INFO:\n",
      "\t [Node] Finished \"test_workflow.datasink\".\n",
      "211116-08:05:19,3 nipype.workflow INFO:\n",
      "\t [Node] Setting-up \"test_workflow.selectfunc\" in \"/home/neuro/Result/Visual_search_task/test_workflow/test_workflow/_subj_id_01/_session_id_4/selectfunc\".\n",
      "211116-08:05:19,41 nipype.workflow INFO:\n",
      "\t [Node] Running \"selectfunc\" (\"nipype.interfaces.io.SelectFiles\")\n",
      "211116-08:05:19,62 nipype.workflow INFO:\n",
      "\t [Node] Finished \"test_workflow.selectfunc\".\n",
      "211116-08:05:19,63 nipype.workflow INFO:\n",
      "\t [Node] Setting-up \"test_workflow.selectfunc\" in \"/home/neuro/Result/Visual_search_task/test_workflow/test_workflow/_subj_id_01/_session_id_3/selectfunc\".\n",
      "211116-08:05:19,99 nipype.workflow INFO:\n",
      "\t [Node] Running \"selectfunc\" (\"nipype.interfaces.io.SelectFiles\")\n",
      "211116-08:05:19,121 nipype.workflow INFO:\n",
      "\t [Node] Finished \"test_workflow.selectfunc\".\n",
      "211116-08:05:19,122 nipype.workflow INFO:\n",
      "\t [Node] Setting-up \"test_workflow.selectfunc\" in \"/home/neuro/Result/Visual_search_task/test_workflow/test_workflow/_subj_id_01/_session_id_2/selectfunc\".\n",
      "211116-08:05:19,159 nipype.workflow INFO:\n",
      "\t [Node] Running \"selectfunc\" (\"nipype.interfaces.io.SelectFiles\")\n",
      "211116-08:05:19,183 nipype.workflow INFO:\n",
      "\t [Node] Finished \"test_workflow.selectfunc\".\n",
      "211116-08:05:19,183 nipype.workflow INFO:\n",
      "\t [Node] Setting-up \"test_workflow.selectfunc\" in \"/home/neuro/Result/Visual_search_task/test_workflow/test_workflow/_subj_id_01/_session_id_1/selectfunc\".\n",
      "211116-08:05:19,222 nipype.workflow INFO:\n",
      "\t [Node] Running \"selectfunc\" (\"nipype.interfaces.io.SelectFiles\")\n",
      "211116-08:05:19,243 nipype.workflow INFO:\n",
      "\t [Node] Finished \"test_workflow.selectfunc\".\n",
      "211116-08:05:19,243 nipype.workflow INFO:\n",
      "\t [Node] Setting-up \"test_workflow.selectanat\" in \"/home/neuro/Result/Visual_search_task/test_workflow/test_workflow/_subj_id_01/selectanat\".\n",
      "211116-08:05:19,278 nipype.workflow INFO:\n",
      "\t [Node] Running \"selectanat\" (\"nipype.interfaces.io.SelectFiles\")\n",
      "211116-08:05:19,300 nipype.workflow INFO:\n",
      "\t [Node] Finished \"test_workflow.selectanat\".\n",
      "211116-08:05:19,301 nipype.workflow INFO:\n",
      "\t [Node] Setting-up \"test_workflow.sort_file_node\" in \"/home/neuro/Result/Visual_search_task/test_workflow/test_workflow/_subj_id_01/sort_file_node\".\n",
      "211116-08:05:19,317 nipype.workflow INFO:\n",
      "\t [Node] Cached \"test_workflow.sort_file_node\" - collecting precomputed outputs\n",
      "211116-08:05:19,318 nipype.workflow INFO:\n",
      "\t [Node] \"test_workflow.sort_file_node\" found cached.\n",
      "211116-08:05:19,318 nipype.workflow INFO:\n",
      "\t [Node] Setting-up \"test_workflow.datasink\" in \"/home/neuro/Result/Visual_search_task/test_workflow/test_workflow/_subj_id_01/datasink\".\n",
      "211116-08:05:19,343 nipype.workflow INFO:\n",
      "\t [Node] Running \"datasink\" (\"nipype.interfaces.io.DataSink\")\n",
      "211116-08:05:19,580 nipype.workflow INFO:\n",
      "\t [Node] Finished \"test_workflow.datasink\".\n"
     ]
    },
    {
     "data": {
      "text/plain": [
       "<networkx.classes.digraph.DiGraph at 0x7f727fb461f0>"
      ]
     },
     "execution_count": 112,
     "metadata": {},
     "output_type": "execute_result"
    }
   ],
   "source": [
    "test_workflow.run()"
   ]
  },
  {
   "cell_type": "code",
   "execution_count": null,
   "metadata": {},
   "outputs": [],
   "source": []
  },
  {
   "cell_type": "code",
   "execution_count": null,
   "metadata": {},
   "outputs": [],
   "source": []
  },
  {
   "cell_type": "code",
   "execution_count": null,
   "metadata": {},
   "outputs": [],
   "source": []
  },
  {
   "cell_type": "code",
   "execution_count": 26,
   "metadata": {},
   "outputs": [],
   "source": [
    "# String template with {}-based strings\n",
    "templates = {'func': '/home/neuro/Result/Visual_search_task/preproc_working_dir/preproc_result/func/_subject_id_{subj_id}_task_number_{session_id}/detrend.nii.gz'}\n",
    "selectfiles = Node(SelectFiles(templates, sort_filelist=True), name='selectfiles')"
   ]
  },
  {
   "cell_type": "code",
   "execution_count": 27,
   "metadata": {},
   "outputs": [],
   "source": [
    "# list of subject identifiers\n",
    "subject_list = ['%02d'%i for i in range(1, 3)]\n",
    "session_list = ['1', '2', '3', '4']\n",
    "selectfiles.iterables = [('subj_id', subject_list), ('session_id', session_list)]"
   ]
  },
  {
   "cell_type": "code",
   "execution_count": 28,
   "metadata": {},
   "outputs": [],
   "source": [
    "def combine_image(anat_list, func_list):\n",
    "    return anat_list[0], func_list\n",
    "\n",
    "collecter = JoinNode(Function(input_names=['anat_list', 'func_list'], output_names=['anat', 'func_list'], function=combine_image),\n",
    "             joinsource='selectfiles',\n",
    "             joinfield=['anat_list', 'func_list'],\n",
    "             name=\"collecter\")"
   ]
  },
  {
   "cell_type": "code",
   "execution_count": 29,
   "metadata": {},
   "outputs": [],
   "source": [
    "# Initiate the datasink node\n",
    "output_folder = 'datasink'\n",
    "datasink = Node(DataSink(base_directory='/home/neuro/Result/Visual_search_task/test_workflow', container=output_folder), name=\"datasink\")"
   ]
  },
  {
   "cell_type": "code",
   "execution_count": 30,
   "metadata": {},
   "outputs": [],
   "source": [
    "test_workflow = Workflow(base_dir='/home/neuro/Result/Visual_search_task/test_workflow', name='test_workflow')"
   ]
  },
  {
   "cell_type": "code",
   "execution_count": 31,
   "metadata": {},
   "outputs": [],
   "source": [
    "test_workflow.connect([(selectfiles, collecter, [('anat', 'anat_list'),\n",
    "                                                 ('func', 'func_list')]),\n",
    "                       (collecter, datasink, [('anat', 'anat_file')])\n",
    "                      ])"
   ]
  },
  {
   "cell_type": "code",
   "execution_count": 35,
   "metadata": {},
   "outputs": [
    {
     "name": "stdout",
     "output_type": "stream",
     "text": [
      "211115-14:05:09,958 nipype.workflow INFO:\n",
      "\t Generated workflow graph: /home/neuro/Result/Visual_search_task/test_workflow/test_workflow/graph.png (graph2use=exec, simple_form=True).\n"
     ]
    },
    {
     "data": {
      "text/plain": [
       "'/home/neuro/Result/Visual_search_task/test_workflow/test_workflow/graph.png'"
      ]
     },
     "execution_count": 35,
     "metadata": {},
     "output_type": "execute_result"
    }
   ],
   "source": [
    "test_workflow.write_graph(graph2use='exec', simple_form=True)"
   ]
  },
  {
   "cell_type": "code",
   "execution_count": 33,
   "metadata": {},
   "outputs": [
    {
     "name": "stdout",
     "output_type": "stream",
     "text": [
      "211115-13:23:28,329 nipype.workflow INFO:\n",
      "\t Workflow test_workflow settings: ['check', 'execution', 'logging', 'monitoring']\n",
      "211115-13:23:28,356 nipype.workflow INFO:\n",
      "\t Running serially.\n",
      "211115-13:23:28,357 nipype.workflow INFO:\n",
      "\t [Node] Setting-up \"test_workflow.selectfiles\" in \"/home/neuro/Result/Visual_search_task/test_workflow/test_workflow/_session_id_4_subj_id_02/selectfiles\".\n",
      "211115-13:23:28,393 nipype.workflow INFO:\n",
      "\t [Node] Running \"selectfiles\" (\"nipype.interfaces.io.SelectFiles\")\n",
      "211115-13:23:28,417 nipype.workflow INFO:\n",
      "\t [Node] Finished \"test_workflow.selectfiles\".\n",
      "211115-13:23:28,418 nipype.workflow INFO:\n",
      "\t [Node] Setting-up \"test_workflow.selectfiles\" in \"/home/neuro/Result/Visual_search_task/test_workflow/test_workflow/_session_id_3_subj_id_02/selectfiles\".\n",
      "211115-13:23:28,454 nipype.workflow INFO:\n",
      "\t [Node] Running \"selectfiles\" (\"nipype.interfaces.io.SelectFiles\")\n",
      "211115-13:23:28,478 nipype.workflow INFO:\n",
      "\t [Node] Finished \"test_workflow.selectfiles\".\n",
      "211115-13:23:28,479 nipype.workflow INFO:\n",
      "\t [Node] Setting-up \"test_workflow.selectfiles\" in \"/home/neuro/Result/Visual_search_task/test_workflow/test_workflow/_session_id_2_subj_id_02/selectfiles\".\n",
      "211115-13:23:28,514 nipype.workflow INFO:\n",
      "\t [Node] Running \"selectfiles\" (\"nipype.interfaces.io.SelectFiles\")\n",
      "211115-13:23:28,536 nipype.workflow INFO:\n",
      "\t [Node] Finished \"test_workflow.selectfiles\".\n",
      "211115-13:23:28,537 nipype.workflow INFO:\n",
      "\t [Node] Setting-up \"test_workflow.selectfiles\" in \"/home/neuro/Result/Visual_search_task/test_workflow/test_workflow/_session_id_1_subj_id_02/selectfiles\".\n",
      "211115-13:23:28,574 nipype.workflow INFO:\n",
      "\t [Node] Running \"selectfiles\" (\"nipype.interfaces.io.SelectFiles\")\n",
      "211115-13:23:28,613 nipype.workflow INFO:\n",
      "\t [Node] Finished \"test_workflow.selectfiles\".\n",
      "211115-13:23:28,614 nipype.workflow INFO:\n",
      "\t [Node] Setting-up \"test_workflow.selectfiles\" in \"/home/neuro/Result/Visual_search_task/test_workflow/test_workflow/_session_id_4_subj_id_01/selectfiles\".\n",
      "211115-13:23:28,649 nipype.workflow INFO:\n",
      "\t [Node] Running \"selectfiles\" (\"nipype.interfaces.io.SelectFiles\")\n",
      "211115-13:23:28,672 nipype.workflow INFO:\n",
      "\t [Node] Finished \"test_workflow.selectfiles\".\n",
      "211115-13:23:28,673 nipype.workflow INFO:\n",
      "\t [Node] Setting-up \"test_workflow.selectfiles\" in \"/home/neuro/Result/Visual_search_task/test_workflow/test_workflow/_session_id_3_subj_id_01/selectfiles\".\n",
      "211115-13:23:28,710 nipype.workflow INFO:\n",
      "\t [Node] Running \"selectfiles\" (\"nipype.interfaces.io.SelectFiles\")\n",
      "211115-13:23:28,732 nipype.workflow INFO:\n",
      "\t [Node] Finished \"test_workflow.selectfiles\".\n",
      "211115-13:23:28,733 nipype.workflow INFO:\n",
      "\t [Node] Setting-up \"test_workflow.selectfiles\" in \"/home/neuro/Result/Visual_search_task/test_workflow/test_workflow/_session_id_2_subj_id_01/selectfiles\".\n",
      "211115-13:23:28,772 nipype.workflow INFO:\n",
      "\t [Node] Running \"selectfiles\" (\"nipype.interfaces.io.SelectFiles\")\n",
      "211115-13:23:28,799 nipype.workflow INFO:\n",
      "\t [Node] Finished \"test_workflow.selectfiles\".\n",
      "211115-13:23:28,799 nipype.workflow INFO:\n",
      "\t [Node] Setting-up \"test_workflow.selectfiles\" in \"/home/neuro/Result/Visual_search_task/test_workflow/test_workflow/_session_id_1_subj_id_01/selectfiles\".\n",
      "211115-13:23:28,836 nipype.workflow INFO:\n",
      "\t [Node] Running \"selectfiles\" (\"nipype.interfaces.io.SelectFiles\")\n",
      "211115-13:23:28,856 nipype.workflow INFO:\n",
      "\t [Node] Finished \"test_workflow.selectfiles\".\n",
      "211115-13:23:28,857 nipype.workflow INFO:\n",
      "\t [Node] Setting-up \"test_workflow.collecter\" in \"/home/neuro/Result/Visual_search_task/test_workflow/test_workflow/collecter\".\n",
      "211115-13:23:28,897 nipype.workflow INFO:\n",
      "\t [Node] Running \"collecter\" (\"nipype.interfaces.utility.wrappers.Function\")\n",
      "211115-13:23:28,919 nipype.workflow INFO:\n",
      "\t [Node] Finished \"test_workflow.collecter\".\n",
      "211115-13:23:28,920 nipype.workflow INFO:\n",
      "\t [Node] Setting-up \"test_workflow.datasink\" in \"/home/neuro/Result/Visual_search_task/test_workflow/test_workflow/datasink\".\n",
      "211115-13:23:28,946 nipype.workflow INFO:\n",
      "\t [Node] Running \"datasink\" (\"nipype.interfaces.io.DataSink\")\n",
      "211115-13:23:29,139 nipype.workflow INFO:\n",
      "\t [Node] Finished \"test_workflow.datasink\".\n"
     ]
    },
    {
     "data": {
      "text/plain": [
       "<networkx.classes.digraph.DiGraph at 0x7f727fc0a2b0>"
      ]
     },
     "execution_count": 33,
     "metadata": {},
     "output_type": "execute_result"
    }
   ],
   "source": [
    "test_workflow.run()"
   ]
  }
 ],
 "metadata": {
  "kernelspec": {
   "display_name": "Python 3 (ipykernel)",
   "language": "python",
   "name": "python3"
  },
  "language_info": {
   "codemirror_mode": {
    "name": "ipython",
    "version": 3
   },
   "file_extension": ".py",
   "mimetype": "text/x-python",
   "name": "python",
   "nbconvert_exporter": "python",
   "pygments_lexer": "ipython3",
   "version": "3.8.10"
  },
  "orig_nbformat": 4
 },
 "nbformat": 4,
 "nbformat_minor": 2
}
