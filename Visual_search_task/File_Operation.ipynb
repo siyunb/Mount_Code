{
 "cells": [
  {
   "cell_type": "code",
   "execution_count": null,
   "metadata": {},
   "outputs": [],
   "source": [
    "import os\n",
    "from os.path import join as opj\n",
    "\n",
    "os.chdir('/home/neuro/Data/Visual_search_task/BIDS_data')\n",
    "for folder in os.listdir():\n",
    "    os.mkdir(opj(os.getcwd(), folder, 'ses-retest'))\n",
    "    os.mkdir(opj(os.getcwd(), folder, 'ses-test'))\n",
    "    os.mkdir(opj(os.getcwd(), folder, 'ses-retest', 'func'))\n",
    "    os.mkdir(opj(os.getcwd(), folder, 'ses-test', 'anat'))\n",
    "    os.mkdir(opj(os.getcwd(), folder, 'ses-test', 'func'))"
   ]
  },
  {
   "cell_type": "code",
   "execution_count": 2,
   "metadata": {},
   "outputs": [
    {
     "data": {
      "text/plain": [
       "'/home/neuro/Data/Visual_search_task/BIDS_data'"
      ]
     },
     "execution_count": 2,
     "metadata": {},
     "output_type": "execute_result"
    }
   ],
   "source": [
    "import os\n",
    "from os.path import join as opj\n",
    "os.chdir('/home/neuro/Data/Visual_search_task/BIDS_data')\n",
    "os.getcwd()"
   ]
  },
  {
   "cell_type": "code",
   "execution_count": 19,
   "metadata": {},
   "outputs": [],
   "source": [
    "def rename1(sub_sub_path):\n",
    "    newname = '_'.join(sub_sub_path.split('/')[-3:-1])+'_rsfunc12min_bold'\n",
    "    for oldname in os.listdir(sub_sub_path):\n",
    "        if oldname.split('.')[-1] == 'json':\n",
    "            os.rename(opj(sub_sub_path, oldname), opj(sub_sub_path, newname+'.json'))\n",
    "        else:\n",
    "            os.rename(opj(sub_sub_path, oldname), opj(sub_sub_path, newname+'.nii'))"
   ]
  },
  {
   "cell_type": "code",
   "execution_count": 29,
   "metadata": {},
   "outputs": [],
   "source": [
    "def rename2(sub_sub_path_anat):\n",
    "    newname = '_'.join(sub_sub_path_anat.split('/')[-3:])+'_sT1W'\n",
    "    for oldname in os.listdir(sub_sub_path_anat):\n",
    "        if oldname.split('.')[-1] == 'json':\n",
    "            os.rename(opj(sub_sub_path_anat, oldname), opj(sub_sub_path_anat, newname+'.json'))\n",
    "        else:\n",
    "            os.rename(opj(sub_sub_path_anat, oldname), opj(sub_sub_path_anat, newname+'.nii'))"
   ]
  },
  {
   "cell_type": "code",
   "execution_count": 63,
   "metadata": {},
   "outputs": [],
   "source": [
    "def rename3(sub_sub_path_func):\n",
    "    file_list = os.listdir(sub_sub_path_func)\n",
    "    session_csv_list = [filename for filename in file_list if filename.split('.')[-1]=='csv']\n",
    "    newname_csv = '_'.join(sub_sub_path_func.split('/')[-3:-1])+'_session'\n",
    "    for i, oldname in enumerate(session_csv_list):\n",
    "        os.rename(opj(sub_sub_path_func, oldname), opj(sub_sub_path_func, newname_csv+str(i+1)+'.csv'))\n",
    "        i+=1\n",
    "    session_json_list = [filename for filename in file_list if filename.split('.')[-1]=='json']\n",
    "    newname_json = '_'.join(sub_sub_path_func.split('/')[-3:-1])\n",
    "    for i, oldname in enumerate(session_json_list):\n",
    "        os.rename(opj(sub_sub_path_func, oldname), opj(sub_sub_path_func, newname_json+'_session'+str(i+1)+'_bold'+'.json'))\n",
    "        i+=1\n",
    "    session_nii_list = [filename for filename in file_list if filename.split('.')[-1]=='nii']\n",
    "    newname_nii = '_'.join(sub_sub_path_func.split('/')[-3:-1])\n",
    "    for i, oldname in enumerate(session_nii_list):\n",
    "        os.rename(opj(sub_sub_path_func, oldname), opj(sub_sub_path_func, newname_nii+'_session'+str(i+1)+'_bold'+'.nii'))\n",
    "        i+=1"
   ]
  },
  {
   "cell_type": "code",
   "execution_count": 64,
   "metadata": {},
   "outputs": [],
   "source": [
    "root_path = os.getcwd()\n",
    "for folder1 in os.listdir():\n",
    "    for folder2 in os.listdir(opj(root_path, folder1)):\n",
    "        sub_path = opj(root_path, folder1, folder2)\n",
    "        if folder2 == 'ses-retest':\n",
    "            sub_sub_path = opj(sub_path, 'func')\n",
    "            rename1(sub_sub_path)\n",
    "        else:\n",
    "            sub_sub_path_anat = opj(sub_path, 'anat')\n",
    "            sub_sub_path_func = opj(sub_path, 'func')\n",
    "            rename2(sub_sub_path_anat)\n",
    "            rename3(sub_sub_path_func)"
   ]
  }
 ],
 "metadata": {
  "kernelspec": {
   "display_name": "Python 3 (ipykernel)",
   "language": "python",
   "name": "python3"
  },
  "orig_nbformat": 4
 },
 "nbformat": 4,
 "nbformat_minor": 2
}
