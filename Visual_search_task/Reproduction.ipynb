{
 "cells": [
  {
   "cell_type": "markdown",
   "source": [
    "# 1. Move materials to specific file"
   ],
   "metadata": {}
  },
  {
   "cell_type": "code",
   "execution_count": 8,
   "source": [
    "import os "
   ],
   "outputs": [],
   "metadata": {}
  },
  {
   "cell_type": "code",
   "execution_count": 12,
   "source": [
    "raw_data_path = 'D:/doctoral_program/Data/Visual_search_task/raw_data'\r\n",
    "disk_raw_data_path = 'E:/raw-data'\r\n",
    "candidcate_list = os.listdir('E:/fmri')"
   ],
   "outputs": [],
   "metadata": {}
  },
  {
   "cell_type": "code",
   "execution_count": 14,
   "source": [
    "def copy_function(src,target):\r\n",
    " if os.path.isdir(src) and os.path.isdir(target):\r\n",
    "  filelist=os.listdir(src)\r\n",
    "  for file in filelist:\r\n",
    "    path=os.path.join(src,file)\r\n",
    "    if os.path.isdir(path):   \r\n",
    "     target1=os.path.join(target,file)\r\n",
    "     os.mkdir(target1) \r\n",
    "     copy_function(path,target1)\r\n",
    "    else:\r\n",
    "     with open(path, 'rb') as rstream:\r\n",
    "      container = rstream.read()\r\n",
    "      path1 = os.path.join(target, file)\r\n",
    "      with open(path1, 'wb') as wstream:\r\n",
    "       wstream.write(container)\r\n",
    "  else:\r\n",
    "   print('copy over!')"
   ],
   "outputs": [],
   "metadata": {}
  },
  {
   "cell_type": "code",
   "execution_count": 15,
   "source": [
    "for one_can in candidcate_list:\r\n",
    "    target_path = os.path.join(raw_data_path, one_can, one_can)\r\n",
    "    src_path = os.path.join(disk_raw_data_path,one_can,one_can)\r\n",
    "    file_path = os.path.join(raw_data_path,one_can)\r\n",
    "    if not os.path.exists(file_path):\r\n",
    "        os.mkdir(file_path)\r\n",
    "        os.mkdir(target_path)\r\n",
    "    copy_function(src_path, target_path)"
   ],
   "outputs": [
    {
     "output_type": "stream",
     "name": "stdout",
     "text": [
      "copy over!\n",
      "copy over!\n",
      "copy over!\n",
      "copy over!\n",
      "copy over!\n",
      "copy over!\n",
      "copy over!\n",
      "copy over!\n",
      "copy over!\n",
      "copy over!\n",
      "copy over!\n",
      "copy over!\n",
      "copy over!\n",
      "copy over!\n",
      "copy over!\n",
      "copy over!\n",
      "copy over!\n",
      "copy over!\n",
      "copy over!\n",
      "copy over!\n",
      "copy over!\n",
      "copy over!\n"
     ]
    }
   ],
   "metadata": {}
  },
  {
   "cell_type": "markdown",
   "source": [
    "# 2.Reproduction"
   ],
   "metadata": {}
  },
  {
   "cell_type": "markdown",
   "source": [
    "## 2.1 Data summary for behavioral information"
   ],
   "metadata": {}
  },
  {
   "cell_type": "code",
   "execution_count": null,
   "source": [],
   "outputs": [],
   "metadata": {}
  },
  {
   "cell_type": "markdown",
   "source": [
    "## 2.2 Descriptive analysis\r\n"
   ],
   "metadata": {}
  },
  {
   "cell_type": "markdown",
   "source": [
    "## 2.3 Statistical analysis\r\n"
   ],
   "metadata": {}
  },
  {
   "cell_type": "markdown",
   "source": [
    "### 2.3.1 GLM with SPM"
   ],
   "metadata": {}
  },
  {
   "cell_type": "markdown",
   "source": [
    "### 2.3.2 PPI with SPM"
   ],
   "metadata": {}
  }
 ],
 "metadata": {
  "orig_nbformat": 4,
  "language_info": {
   "name": "python",
   "version": "3.8.0",
   "mimetype": "text/x-python",
   "codemirror_mode": {
    "name": "ipython",
    "version": 3
   },
   "pygments_lexer": "ipython3",
   "nbconvert_exporter": "python",
   "file_extension": ".py"
  },
  "kernelspec": {
   "name": "python3",
   "display_name": "Python 3.8.0 64-bit ('pytorch': conda)"
  },
  "interpreter": {
   "hash": "527a93331b4b1a8345148922acc34427fb7591433d63b66d32040b6fbbc6d593"
  }
 },
 "nbformat": 4,
 "nbformat_minor": 2
}