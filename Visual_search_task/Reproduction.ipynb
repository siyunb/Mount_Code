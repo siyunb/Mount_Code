{
 "cells": [
  {
   "cell_type": "markdown",
   "metadata": {},
   "source": [
    "# 1. Move materials to specific file"
   ]
  },
  {
   "cell_type": "code",
   "execution_count": 3,
   "metadata": {},
   "outputs": [],
   "source": [
    "import os "
   ]
  },
  {
   "cell_type": "code",
   "execution_count": 7,
   "metadata": {},
   "outputs": [],
   "source": [
    "raw_data_path = 'D:\\wangsiyu\\Data\\Visual_search_task\\\\raw_data'\n",
    "disk_raw_data_path = 'G:/raw-data'\n",
    "candidcate_list = os.listdir('G:/fmri')"
   ]
  },
  {
   "cell_type": "code",
   "execution_count": 5,
   "metadata": {},
   "outputs": [],
   "source": [
    "def copy_function(src,target):\n",
    " if os.path.isdir(src) and os.path.isdir(target):\n",
    "  filelist=os.listdir(src)\n",
    "  for file in filelist:\n",
    "    path=os.path.join(src,file)\n",
    "    if os.path.isdir(path):   \n",
    "     target1=os.path.join(target,file)\n",
    "     os.mkdir(target1) \n",
    "     copy_function(path,target1)\n",
    "    else:\n",
    "     with open(path, 'rb') as rstream:\n",
    "      container = rstream.read()\n",
    "      path1 = os.path.join(target, file)\n",
    "      with open(path1, 'wb') as wstream:\n",
    "       wstream.write(container)\n",
    "  else:\n",
    "   print('copy over!')"
   ]
  },
  {
   "cell_type": "code",
   "execution_count": 9,
   "metadata": {},
   "outputs": [
    {
     "name": "stdout",
     "output_type": "stream",
     "text": [
      "copy over!\n",
      "copy over!\n",
      "copy over!\n",
      "copy over!\n",
      "copy over!\n",
      "copy over!\n",
      "copy over!\n",
      "copy over!\n",
      "copy over!\n",
      "copy over!\n",
      "copy over!\n",
      "copy over!\n",
      "copy over!\n",
      "copy over!\n",
      "copy over!\n",
      "copy over!\n",
      "copy over!\n",
      "copy over!\n",
      "copy over!\n",
      "copy over!\n",
      "copy over!\n",
      "copy over!\n"
     ]
    }
   ],
   "source": [
    "for one_can in candidcate_list:\n",
    "    target_path = os.path.join(raw_data_path, one_can, one_can)\n",
    "    src_path = os.path.join(disk_raw_data_path,one_can,one_can)\n",
    "    file_path = os.path.join(raw_data_path,one_can)\n",
    "    if not os.path.exists(file_path):\n",
    "        os.mkdir(file_path)\n",
    "        os.mkdir(target_path)\n",
    "    copy_function(src_path, target_path)"
   ]
  },
  {
   "cell_type": "markdown",
   "metadata": {},
   "source": [
    "# 2.Reproduction"
   ]
  },
  {
   "cell_type": "code",
   "execution_count": 1,
   "metadata": {},
   "outputs": [],
   "source": [
    " from copy import deepcopy\n",
    " import pandas as pd\n",
    " import numpy as np"
   ]
  },
  {
   "cell_type": "markdown",
   "metadata": {},
   "source": [
    "## 2.1 Data summary for behavioral information"
   ]
  },
  {
   "cell_type": "code",
   "execution_count": 4,
   "metadata": {},
   "outputs": [
    {
     "name": "stdout",
     "output_type": "stream",
     "text": [
      "/work\n",
      "/home/neuro/Data/Visual_search_task\n"
     ]
    }
   ],
   "source": [
    "print(os.getcwd())           #显示当前工作路径\n",
    "os.chdir('/home/neuro/Data/Visual_search_task') #调整当前工作路径\n",
    "print(os.getcwd())"
   ]
  },
  {
   "cell_type": "code",
   "execution_count": 7,
   "metadata": {},
   "outputs": [],
   "source": [
    "def getFile_withName(path, exe_name):\n",
    "    file_list = []\n",
    "    f_list = os.listdir(path)\n",
    "    for file_name in f_list:\n",
    "        if file_name.split('.')[-1] == exe_name:\n",
    "            file_list.append(file_name)\n",
    "    return file_list\n",
    "\n",
    "def subj_dict(folder_list):\n",
    "    subject_dict = dict()\n",
    "    subject_attribute = {'BI':{'stim_1':[], 'stim_2':[], 'stim_3':[], 'stim_4':[]}}\n",
    "    for subject_name in folder_list:\n",
    "        subject_dict[subject_name] = deepcopy(subject_attribute)\n",
    "    return subject_dict"
   ]
  },
  {
   "cell_type": "code",
   "execution_count": 8,
   "metadata": {},
   "outputs": [],
   "source": [
    "folder_list = os.listdir('./raw_data')\n",
    "folder_name = folder_list[0]\n",
    "folder_path = os.path.join('./raw_data', folder_name, folder_name)"
   ]
  },
  {
   "cell_type": "code",
   "execution_count": 9,
   "metadata": {},
   "outputs": [],
   "source": [
    "folder_list = os.listdir('./raw_data')\n",
    "subject_dict = subj_dict(folder_list)\n",
    "for folder_name in folder_list:\n",
    "    folder_path = os.path.join('./raw_data', folder_name, folder_name)\n",
    "    session_csv = getFile_withName(folder_path, 'csv')\n",
    "    for one_session in session_csv:\n",
    "        order = one_session.split('_')[0].split('-')[-1]\n",
    "        stim_order = '_'.join(['stim', order])\n",
    "        session_df = pd.read_csv(os.path.join(folder_path, one_session))\n",
    "        pic_name = list(session_df.iloc[np.where(~np.isnan(session_df['ans.keys']))[0]-1,]['task state'])\n",
    "        pic_name = [ pic.split('.')[0] for pic in pic_name]\n",
    "        subj_ans = list(session_df[~np.isnan(session_df['ans.keys'])]['ans.keys'])\n",
    "        subj_ans = [7.0 if ans == 6.0 else ans for ans in subj_ans]                                       #有一些实验者进行了误点，在这里进行转化\n",
    "        ques_ans = list(zip(pic_name, subj_ans))\n",
    "        subject_dict[folder_name]['BI'][stim_order].extend(ques_ans)"
   ]
  },
  {
   "cell_type": "code",
   "execution_count": 10,
   "metadata": {},
   "outputs": [
    {
     "data": {
      "text/plain": [
       "{'20190704-2': {'BI': {'stim_1': [('6-e', 8.0),\n",
       "    ('9-e', 9.0),\n",
       "    ('8-d', 8.0),\n",
       "    ('7-d', 8.0)],\n",
       "   'stim_2': [('2-d', 9.0), ('9-e', 9.0), ('5-d', 7.0), ('8-e', 9.0)],\n",
       "   'stim_3': [('2-1-d', 8.0), ('3-e', 7.0), ('2-d', 8.0), ('9-e', 9.0)],\n",
       "   'stim_4': [('1-2-d', 7.0), ('9-e', 9.0), ('1-e', 7.0), ('1-3-d', 8.0)]}},\n",
       " '20190705-3': {'BI': {'stim_1': [('3-d', 7.0),\n",
       "    ('9-d', 9.0),\n",
       "    ('11-e', 9.0),\n",
       "    ('7-e', 8.0)],\n",
       "   'stim_2': [('6-d', 9.0), ('8-e', 9.0), ('3-d', 7.0), ('9-e', 9.0)],\n",
       "   'stim_3': [('1-e', 7.0), ('7-e', 9.0), ('2-6-d', 7.0), ('2-7-d', 8.0)],\n",
       "   'stim_4': [('2-1-d', 8.0), ('2-e', 7.0), ('1-9-d', 9.0), ('3-e', 7.0)]}},\n",
       " '20190706-3': {'BI': {'stim_1': [('9-e', 9.0),\n",
       "    ('7-d', 9.0),\n",
       "    ('1-d', 7.0),\n",
       "    ('7-e', 8.0)],\n",
       "   'stim_2': [('5-e', 9.0), ('2-d', 9.0), ('9-d', 9.0), ('7-e', 8.0)],\n",
       "   'stim_3': [('1-3-d', 9.0), ('3-e', 7.0), ('1-5-d', 8.0), ('6-e', 8.0)],\n",
       "   'stim_4': [('2-6-d', 9.0), ('3-e', 7.0), ('9-e', 9.0), ('3-4-d', 8.0)]}},\n",
       " '20190707-2': {'BI': {'stim_1': [('6-d', 9.0),\n",
       "    ('8-d', 9.0),\n",
       "    ('2-e', 7.0),\n",
       "    ('7-e', 8.0)],\n",
       "   'stim_2': [('2-d', 9.0), ('1-d', 8.0), ('4-e', 7.0), ('8-e', 9.0)],\n",
       "   'stim_3': [('1-3-d', 9.0), ('8-e', 9.0), ('1-e', 7.0), ('2-7-d', 8.0)],\n",
       "   'stim_4': [('1-3-d', 9.0), ('4-e', 8.0), ('2-6-d', 9.0), ('2-e', 7.0)]}},\n",
       " '20190707-3': {'BI': {'stim_1': [('3-e', 7.0),\n",
       "    ('9-d', 9.0),\n",
       "    ('6-e', 8.0),\n",
       "    ('5-d', 9.0)],\n",
       "   'stim_2': [('9-e', 9.0), ('6-d', 9.0), ('7-d', 8.0), ('6-e', 8.0)],\n",
       "   'stim_3': [('7-e', 9.0), ('3-2-d', 8.0), ('3-e', 7.0), ('2-d', 8.0)],\n",
       "   'stim_4': [('5-e', 8.0), ('1-9-d', 9.0), ('2-1-d', 8.0), ('2-e', 7.0)]}},\n",
       " '20190716-1': {'BI': {'stim_1': [('2-d', 8.0),\n",
       "    ('3-e', 7.0),\n",
       "    ('4-d', 9.0),\n",
       "    ('1-e', 7.0)],\n",
       "   'stim_2': [('8-e', 9.0), ('2-e', 7.0), ('2-d', 9.0), ('1-d', 7.0)],\n",
       "   'stim_3': [('5-e', 8.0), ('1-3-d', 9.0), ('1-5-d', 7.0), ('7-e', 9.0)],\n",
       "   'stim_4': [('1-2-d', 7.0), ('4-e', 8.0), ('1-e', 7.0), ('3-1-d', 7.0)]}},\n",
       " '20190716-2': {'BI': {'stim_1': [('8-d', 9.0),\n",
       "    ('11-e', 9.0),\n",
       "    ('7-d', 7.0),\n",
       "    ('5-e', 8.0)],\n",
       "   'stim_2': [('6-d', 8.0), ('2-d', 9.0), ('9-e', 9.0), ('3-e', 8.0)],\n",
       "   'stim_3': [('5-e', 8.0), ('7-e', 9.0), ('2-6-d', 8.0), ('2-1-d', 9.0)],\n",
       "   'stim_4': [('1-9-d', 9.0), ('9-e', 9.0), ('5-e', 8.0), ('3-4-d', 9.0)]}},\n",
       " '20190717-1': {'BI': {'stim_1': [('2-e', 7.0),\n",
       "    ('9-e', 9.0),\n",
       "    ('9-d', 7.0),\n",
       "    ('4-d', 9.0)],\n",
       "   'stim_2': [('2-d', 9.0), ('3-e', 8.0), ('5-e', 9.0), ('4-d', 9.0)],\n",
       "   'stim_3': [('7-e', 9.0), ('2-d', 8.0), ('4-e', 8.0), ('2-7-d', 8.0)],\n",
       "   'stim_4': [('6-e', 8.0), ('3-4-d', 8.0), ('3-5-d', 9.0), ('2-e', 7.0)]}},\n",
       " '20190717-3': {'BI': {'stim_1': [('6-e', 8.0),\n",
       "    ('6-d', 9.0),\n",
       "    ('7-e', 8.0),\n",
       "    ('1-d', 7.0)],\n",
       "   'stim_2': [('1-d', 8.0), ('1-e', 7.0), ('4-d', 9.0), ('6-e', 8.0)],\n",
       "   'stim_3': [('6-e', 8.0), ('2-d', 8.0), ('9-e', 9.0), ('1-5-d', 8.0)],\n",
       "   'stim_4': [('5-e', 8.0), ('1-e', 7.0), ('1-3-d', 8.0), ('1-9-d', 9.0)]}},\n",
       " '20190718-1': {'BI': {'stim_1': [('2-e', 7.0),\n",
       "    ('1-d', 9.0),\n",
       "    ('9-e', 9.0),\n",
       "    ('4-d', 9.0)],\n",
       "   'stim_2': [('4-e', 7.0), ('7-d', 8.0), ('5-e', 9.0), ('2-d', 9.0)],\n",
       "   'stim_3': [('7-e', 9.0), ('1-5-d', 8.0), ('2-e', 7.0), ('2-1-d', 9.0)],\n",
       "   'stim_4': [('2-6-d', 9.0), ('3-4-d', 8.0), ('6-e', 8.0), ('4-e', 8.0)]}},\n",
       " '20190719-1': {'BI': {'stim_1': [('9-d', 9.0),\n",
       "    ('6-d', 9.0),\n",
       "    ('11-e', 9.0),\n",
       "    ('9-e', 9.0)],\n",
       "   'stim_2': [('4-d', 9.0), ('2-e', 7.0), ('7-e', 8.0), ('2-d', 9.0)],\n",
       "   'stim_3': [('3-e', 7.0), ('4-e', 8.0), ('3-5-d', 8.0), ('2-6-d', 9.0)],\n",
       "   'stim_4': [('6-e', 8.0), ('2-7-d', 9.0), ('7-e', 9.0), ('2-6-d', 9.0)]}},\n",
       " '20190801-1': {'BI': {'stim_1': [('7-e', 8.0),\n",
       "    ('3-d', 8.0),\n",
       "    ('1-e', 7.0),\n",
       "    ('4-d', 9.0)],\n",
       "   'stim_2': [('4-e', 7.0), ('8-e', 9.0), ('2-d', 9.0), ('1-d', 9.0)],\n",
       "   'stim_3': [('6-e', 8.0), ('1-3-d', 9.0), ('2-6-d', 8.0), ('9-e', 9.0)],\n",
       "   'stim_4': [('2-6-d', 9.0), ('1-e', 7.0), ('3-4-d', 8.0), ('5-e', 8.0)]}},\n",
       " '20190801-2': {'BI': {'stim_1': [('3-d', 7.0),\n",
       "    ('3-e', 7.0),\n",
       "    ('1-e', 7.0),\n",
       "    ('5-d', 9.0)],\n",
       "   'stim_2': [('3-d', 7.0), ('3-e', 8.0), ('9-d', 9.0), ('7-e', 8.0)],\n",
       "   'stim_3': [('9-e', 9.0), ('3-e', 7.0), ('3-2-d', 8.0), ('2-1-d', 7.0)],\n",
       "   'stim_4': [('9-e', 9.0), ('1-9-d', 9.0), ('2-1-d', 8.0), ('1-e', 7.0)]}},\n",
       " '20190802-2': {'BI': {'stim_1': [('1-e', 7.0),\n",
       "    ('7-d', 8.0),\n",
       "    ('3-e', 7.0),\n",
       "    ('6-d', 9.0)],\n",
       "   'stim_2': [('4-e', 7.0), ('7-d', 8.0), ('2-d', 9.0), ('1-e', 7.0)],\n",
       "   'stim_3': [('3-e', 7.0), ('8-e', 9.0), ('2-6-d', 7.0), ('3-5-d', 8.0)],\n",
       "   'stim_4': [('4-e', 8.0), ('5-e', 8.0), ('3-5-d', 9.0), ('1-3-d', 8.0)]}},\n",
       " '20190802-3': {'BI': {'stim_1': [('6-d', 9.0),\n",
       "    ('7-e', 8.0),\n",
       "    ('2-d', 8.0),\n",
       "    ('3-e', 7.0)],\n",
       "   'stim_2': [('2-e', 7.0), ('4-d', 9.0), ('4-e', 7.0), ('5-d', 8.0)],\n",
       "   'stim_3': [('2-1-d', 7.0), ('1-3-d', 9.0), ('7-e', 9.0), ('3-e', 7.0)],\n",
       "   'stim_4': [('6-e', 8.0), ('4-e', 8.0), ('3-1-d', 8.0), ('3-4-d', 8.0)]}},\n",
       " '20190803-1': {'BI': {'stim_1': [('7-e', 8.0),\n",
       "    ('1-e', 7.0),\n",
       "    ('1-d', 8.0),\n",
       "    ('4-d', 9.0)],\n",
       "   'stim_2': [('6-d', 8.0), ('1-e', 7.0), ('7-d', 8.0), ('6-e', 8.0)],\n",
       "   'stim_3': [('1-5-d', 7.0), ('2-9-d', 9.0), ('6-e', 8.0), ('7-e', 9.0)],\n",
       "   'stim_4': [('3-4-d', 8.0), ('1-3-d', 8.0), ('8-e', 9.0), ('3-e', 7.0)]}},\n",
       " '20190803-2': {'BI': {'stim_1': [('2-d', 7.0),\n",
       "    ('1-e', 7.0),\n",
       "    ('4-d', 9.0),\n",
       "    ('10-e', 9.0)],\n",
       "   'stim_2': [('9-d', 9.0), ('6-e', 8.0), ('8-e', 9.0), ('7-d', 8.0)],\n",
       "   'stim_3': [('4-e', 8.0), ('5-e', 8.0), ('3-5-d', 8.0), ('2-9-d', 9.0)],\n",
       "   'stim_4': [('1-3-d', 8.0), ('8-e', 9.0), ('3-e', 7.0), ('1-2-d', 8.0)]}},\n",
       " '20190804-2': {'BI': {'stim_1': [('3-d', 9.0), ('11-e', 9.0), ('2-e', 7.0)],\n",
       "   'stim_2': [('1-e', 7.0), ('8-e', 8.0), ('3-d', 9.0), ('2-d', 9.0)],\n",
       "   'stim_3': [('2-e', 7.0), ('4-e', 8.0), ('1-3-d', 9.0), ('3-2-d', 8.0)],\n",
       "   'stim_4': [('2-6-d', 9.0), ('1-2-d', 8.0), ('3-e', 7.0), ('9-e', 9.0)]}},\n",
       " '20190908-1': {'BI': {'stim_1': [('11-e', 9.0),\n",
       "    ('2-d', 9.0),\n",
       "    ('7-e', 8.0),\n",
       "    ('7-d', 8.0)],\n",
       "   'stim_2': [('9-d', 9.0), ('1-d', 8.0), ('8-e', 9.0), ('6-e', 8.0)],\n",
       "   'stim_3': [('8-e', 7.0), ('2-6-d', 7.0), ('5-e', 8.0), ('2-7-d', 7.0)],\n",
       "   'stim_4': [('7-e', 9.0), ('5-e', 8.0), ('1-9-d', 9.0), ('3-5-d', 9.0)]}},\n",
       " '20190908-2': {'BI': {'stim_1': [('7-e', 8.0),\n",
       "    ('6-d', 9.0),\n",
       "    ('11-e', 9.0),\n",
       "    ('4-d', 9.0)],\n",
       "   'stim_2': [('7-e', 8.0), ('2-d', 9.0), ('5-e', 9.0), ('8-d', 9.0)],\n",
       "   'stim_3': [('5-e', 8.0), ('1-5-d', 9.0), ('3-5-d', 9.0)],\n",
       "   'stim_4': [('1-9-d', 9.0), ('1-e', 7.0), ('8-e', 9.0), ('3-4-d', 8.0)]}},\n",
       " '20190909-2': {'BI': {'stim_1': [('11-e', 9.0),\n",
       "    ('9-d', 9.0),\n",
       "    ('5-e', 8.0),\n",
       "    ('4-d', 8.0)],\n",
       "   'stim_2': [('2-e', 7.0), ('2-d', 9.0), ('1-e', 7.0), ('9-d', 9.0)],\n",
       "   'stim_3': [('8-e', 9.0), ('1-5-d', 7.0), ('3-2-d', 8.0), ('4-e', 8.0)],\n",
       "   'stim_4': [('2-1-d', 8.0), ('9-e', 9.0), ('1-2-d', 7.0), ('6-e', 8.0)]}},\n",
       " '20190910-2': {'BI': {'stim_1': [('2-e', 7.0),\n",
       "    ('3-d', 8.0),\n",
       "    ('1-e', 7.0),\n",
       "    ('8-d', 9.0)],\n",
       "   'stim_2': [('6-d', 8.0), ('8-e', 9.0), ('7-e', 8.0), ('8-d', 9.0)],\n",
       "   'stim_3': [('4-e', 8.0), ('9-e', 9.0), ('2-1-d', 8.0), ('2-6-d', 8.0)],\n",
       "   'stim_4': [('2-1-d', 8.0), ('1-3-d', 8.0), ('6-e', 8.0), ('3-e', 7.0)]}}}"
      ]
     },
     "execution_count": 10,
     "metadata": {},
     "output_type": "execute_result"
    }
   ],
   "source": []
  },
  {
   "cell_type": "code",
   "execution_count": 16,
   "metadata": {},
   "outputs": [],
   "source": [
    "pic_ans = { 'stim_1':{'d':{'1-d':7, '2-d':6, '3-d':7, '4-d':5, '5-d':5, '6-d':5, '7-d':7, '8-d':6, '9-d':5},\n",
    "                      'e':{'1-e':7, '2-e':7, '3-e':7, '5-e':6, '6-e':6, '7-e':6, '9-e':5, '10-e':5, '11-e':5}}, \n",
    "            'stim_2':{'d':{'1-d':7, '2-d':5, '3-d':7, '4-d':5, '5-d':7, '6-d':6, '7-d':6, '8-d':5, '9-d':5},\n",
    "                      'e':{'1-e':7, '2-e':7, '3-e':6, '4-e':7, '5-e':5, '6-e':6, '7-e':6, '8-e':5, '9-e':5}}, \n",
    "            'stim_3':{'d':{'1-3-d':7, '1-5-d':5, '2-1-d':7, '2-6-d':5, '2-7-d':7, '2-9-d':6, '2-d':6, '3-2-d':5, '3-5-d':5}, \n",
    "                      'e':{}},\n",
    "            'stim_4':{'d':{},\n",
    "                      'e':{}}}\n",
    "ans_switch = {'9':5, '8':6, '6':7}"
   ]
  },
  {
   "cell_type": "code",
   "execution_count": null,
   "metadata": {},
   "outputs": [],
   "source": []
  },
  {
   "cell_type": "code",
   "execution_count": 14,
   "metadata": {},
   "outputs": [
    {
     "data": {
      "text/plain": [
       "{'stim_1': {'d': {}, 'e': {}},\n",
       " 'stim_2': {'d': {}, 'e': {}},\n",
       " 'stim_3': {'d': {}, 'e': {}},\n",
       " 'stim_4': {'d': {}, 'e': {}}}"
      ]
     },
     "execution_count": 14,
     "metadata": {},
     "output_type": "execute_result"
    }
   ],
   "source": [
    "pic_ans"
   ]
  },
  {
   "cell_type": "code",
   "execution_count": null,
   "metadata": {},
   "outputs": [],
   "source": [
    "subject_dict"
   ]
  },
  {
   "cell_type": "markdown",
   "metadata": {},
   "source": [
    "## 2.2 Descriptive analysis\n"
   ]
  },
  {
   "cell_type": "markdown",
   "metadata": {},
   "source": [
    "## 2.3 Statistical analysis\n"
   ]
  },
  {
   "cell_type": "markdown",
   "metadata": {},
   "source": [
    "### 2.3.1 GLM with SPM"
   ]
  },
  {
   "cell_type": "markdown",
   "metadata": {},
   "source": [
    "### 2.3.2 PPI with SPM"
   ]
  }
 ],
 "metadata": {
  "interpreter": {
   "hash": "994be21e1b201d82e2e6ff4fe9c977e5bc5a1eefcb4b8ab21b10332690e7696c"
  },
  "kernelspec": {
   "display_name": "Python 3 (ipykernel)",
   "language": "python",
   "name": "python3"
  },
  "language_info": {
   "codemirror_mode": {
    "name": "ipython",
    "version": 3
   },
   "file_extension": ".py",
   "mimetype": "text/x-python",
   "name": "python",
   "nbconvert_exporter": "python",
   "pygments_lexer": "ipython3",
   "version": "3.8.10"
  },
  "orig_nbformat": 4
 },
 "nbformat": 4,
 "nbformat_minor": 2
}
