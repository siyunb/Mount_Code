{
 "cells": [
  {
   "cell_type": "markdown",
   "metadata": {},
   "source": [
    "# Data Output\n",
    "\n",
    "Similarly important to data input is data output. Using a data output module allows you to restructure and rename computed output and to spatially differentiate relevant output files from the temporary computed intermediate files in the working directory. Nipype provides the following modules to handle data stream output:\n",
    "\n",
    "    DataSink\n",
    "    JSONFileSink\n",
    "    MySQLSink\n",
    "    SQLiteSink\n",
    "    XNATSink\n",
    "\n",
    "This tutorial covers only `DataSink`. For the rest, see the section [``interfaces.io``](http://nipype.readthedocs.io/en/latest/interfaces/generated/nipype.interfaces.io.html) on the official homepage."
   ]
  },
  {
   "cell_type": "markdown",
   "metadata": {},
   "source": [
    "# DataSink\n",
    "\n",
    "A workflow working directory is like a **cache**. It contains not only the outputs of various processing stages, it also contains various extraneous information such as execution reports, hashfiles determining the input state of processes. All of this is embedded in a hierarchical structure that reflects the iterables that have been used in the workflow. This makes navigating the working directory a not so pleasant experience. And typically the user is interested in preserving only a small percentage of these outputs. The [DataSink](http://nipype.readthedocs.io/en/latest/interfaces/generated/nipype.interfaces.io.html#datasink) interface can be used to extract components from this `cache` and store it at a different location. For XNAT-based storage, see [XNATSink](http://nipype.readthedocs.io/en/latest/interfaces/generated/nipype.interfaces.io.html#nipype-interfaces-io-xnatsink).\n",
    "\n",
    "<div class=\"alert alert-info\">\n",
    "Unlike other interfaces, a [DataSink](http://nipype.readthedocs.io/en/latest/interfaces/generated/nipype.interfaces.io.html#datasink)'s inputs are defined and created by using the workflow connect statement. Currently disconnecting an input from the [DataSink](http://nipype.readthedocs.io/en/latest/interfaces/generated/nipype.interfaces.io.html#datasink) does not remove that connection port.\n",
    "</div>\n",
    "\n",
    "Let's assume we have the following workflow.\n",
    "\n",
    "<img src=\"../static/images/datasink_flow.png\" width=\"160\">\n",
    "\n",
    "The following code segment defines the [DataSink](http://nipype.readthedocs.io/en/latest/interfaces/generated/nipype.interfaces.io.html#datasink) node and sets the `base_directory` in which all outputs will be stored. The `container` input creates a subdirectory within the `base_directory`. If you are iterating a workflow over subjects, it may be useful to save it within a folder with the subject id.\n"
   ]
  },
  {
   "cell_type": "markdown",
   "metadata": {},
   "source": [
    "```python\n",
    "datasink = pe.Node(nio.DataSink(), name='sinker')\n",
    "datasink.inputs.base_directory = '/path/to/output'\n",
    "workflow.connect(inputnode, 'subject_id', datasink, 'container')\n",
    "```"
   ]
  },
  {
   "cell_type": "markdown",
   "metadata": {},
   "source": [
    "If we wanted to save the realigned files and the realignment parameters to the same place the most intuitive option would be:"
   ]
  },
  {
   "cell_type": "markdown",
   "metadata": {},
   "source": [
    "```python\n",
    "workflow.connect(realigner, 'realigned_files', datasink, 'motion')\n",
    "workflow.connect(realigner, 'realignment_parameters', datasink, 'motion')\n",
    "```"
   ]
  },
  {
   "cell_type": "markdown",
   "metadata": {},
   "source": [
    "However, this will not work as only one connection is allowed per input port. So we need to create a second port. We can store the files in a separate folder."
   ]
  },
  {
   "cell_type": "markdown",
   "metadata": {},
   "source": [
    "```python\n",
    "workflow.connect(realigner, 'realigned_files', datasink, 'motion')\n",
    "workflow.connect(realigner, 'realignment_parameters', datasink, 'motion.par')\n",
    "```"
   ]
  },
  {
   "cell_type": "markdown",
   "metadata": {},
   "source": [
    "The period (.) indicates that a subfolder called par should be created. But if we wanted to store it in the same folder as the realigned files, we would use the `.@` syntax. The @ tells the [DataSink](http://nipype.readthedocs.io/en/latest/interfaces/generated/nipype.interfaces.io.html#datasink) interface to not create the subfolder. This will allow us to create different named input ports for [DataSink](http://nipype.readthedocs.io/en/latest/interfaces/generated/nipype.interfaces.io.html#datasink) and allow the user to store the files in the same folder."
   ]
  },
  {
   "cell_type": "markdown",
   "metadata": {},
   "source": [
    "```python\n",
    "workflow.connect(realigner, 'realigned_files', datasink, 'motion')\n",
    "workflow.connect(realigner, 'realignment_parameters', datasink, 'motion.@par')\n",
    "```"
   ]
  },
  {
   "cell_type": "markdown",
   "metadata": {},
   "source": [
    "The syntax for the input port of [DataSink](http://nipype.readthedocs.io/en/latest/interfaces/generated/nipype.interfaces.io.html#datasink) takes the following form:\n",
    "\n",
    "    string[[.[@]]string[[.[@]]string] ...]\n",
    "    where parts between paired [] are optional."
   ]
  },
  {
   "cell_type": "markdown",
   "metadata": {},
   "source": [
    "## MapNode\n",
    "\n",
    "In order to use [DataSink](http://nipype.readthedocs.io/en/latest/interfaces/generated/nipype.interfaces.io.html#datasink) inside a MapNode, its inputs have to be defined inside the constructor using the `infields` keyword arg."
   ]
  },
  {
   "cell_type": "markdown",
   "metadata": {},
   "source": [
    "## Parameterization\n",
    "\n",
    "As discussed in [Iterables](basic_iteration.ipynb), one can run a workflow iterating over various inputs using the iterables attribute of nodes. This means that a given workflow can have multiple outputs depending on how many iterables are there. Iterables create working directory subfolders such as `_iterable_name_value`.  The `parameterization` input parameter controls whether the data stored using [DataSink](http://nipype.readthedocs.io/en/latest/interfaces/generated/nipype.interfaces.io.html#datasink) is in a folder structure that contains this iterable information or not. It is generally recommended to set this to `True` when using multiple nested iterables."
   ]
  },
  {
   "cell_type": "markdown",
   "metadata": {},
   "source": [
    "## Substitutions\n",
    "\n",
    "The ``substitutions`` and ``regexp_substitutions`` inputs allow users to modify the output destination path and name of a file. Substitutions are a list of 2-tuples and are carried out in the order in which they were entered. Assuming that the output path of a file is:\n",
    "\n",
    "    /root/container/_variable_1/file_subject_realigned.nii\n",
    "\n",
    "we can use substitutions to clean up the output path.\n",
    "\n",
    "```python\n",
    "datasink.inputs.substitutions = [('_variable', 'variable'),\n",
    "                                 ('file_subject_', '')]\n",
    "```\n",
    "\n",
    "This will rewrite the file as:\n",
    "\n",
    "    /root/container/variable_1/realigned.nii\n",
    "\n",
    "\n",
    "<div class=\"alert alert-info\">\n",
    "**Note**: In order to figure out which substitutions are needed it is often useful to run the workflow on a limited set of iterables and then determine the substitutions.\n",
    "</div>"
   ]
  },
  {
   "cell_type": "markdown",
   "metadata": {},
   "source": [
    "# Realistic Example\n",
    "\n",
    "## Preparation\n",
    "\n",
    "Before we can use `DataSink` we first need to run a workflow. For this purpose, let's create a very short preprocessing workflow that realigns and smooths one functional image of one subject."
   ]
  },
  {
   "cell_type": "markdown",
   "metadata": {},
   "source": [
    "First, let's create a `SelectFiles` node. For an explanation of this step, see the [Data Input](basic_data_input.ipynb) tutorial."
   ]
  },
  {
   "cell_type": "code",
   "execution_count": 15,
   "metadata": {},
   "outputs": [],
   "source": [
    "from nipype import SelectFiles, Node\n",
    "\n",
    "# Create SelectFiles node\n",
    "templates={'func': '{subject}/{session}/func/{subject}_{session}_task-fingerfootlips_bold.nii.gz'}\n",
    "sf = Node(SelectFiles(templates),\n",
    "          name='selectfiles')\n",
    "sf.inputs.base_directory = '/home/neuro/Data/ds000114'\n",
    "sf.inputs.subject = 'sub-01'\n",
    "sf.inputs.session = 'ses-test'"
   ]
  },
  {
   "cell_type": "markdown",
   "metadata": {},
   "source": [
    "Second, let's create the motion correction and smoothing node. For an explanation about this step, see the [Nodes](basic_nodes.ipynb) and [Interfaces](basic_interfaces.ipynb) tutorial."
   ]
  },
  {
   "cell_type": "code",
   "execution_count": 17,
   "metadata": {},
   "outputs": [],
   "source": [
    "from nipype.interfaces.fsl import MCFLIRT, IsotropicSmooth\n",
    "\n",
    "# Create Motion Correction Node\n",
    "mcflirt = Node(MCFLIRT(mean_vol=True,\n",
    "                       save_plots=True),\n",
    "               name='mcflirt')\n",
    "\n",
    "# Create Smoothing node\n",
    "smooth = Node(IsotropicSmooth(fwhm=4),\n",
    "              name='smooth')"
   ]
  },
  {
   "cell_type": "markdown",
   "metadata": {},
   "source": [
    "Third, let's create the workflow that will contain those three nodes. For an explanation about this step, see the [Workflow](basic_workflow.ipynb) tutorial."
   ]
  },
  {
   "cell_type": "code",
   "execution_count": 18,
   "metadata": {},
   "outputs": [],
   "source": [
    "from nipype import Workflow\n",
    "from os.path import abspath\n",
    "\n",
    "# Create a preprocessing workflow\n",
    "wf = Workflow(base_dir='/home/neuro/Result/Nipype_tutorial/working_dir', name=\"preprocWF\")\n",
    "\n",
    "# Connect the three nodes to each other\n",
    "wf.connect([(sf, mcflirt, [(\"func\", \"in_file\")]),\n",
    "            (mcflirt, smooth, [(\"out_file\", \"in_file\")])])"
   ]
  },
  {
   "cell_type": "markdown",
   "metadata": {},
   "source": [
    "Now that everything is set up, let's run the preprocessing workflow."
   ]
  },
  {
   "cell_type": "code",
   "execution_count": 19,
   "metadata": {},
   "outputs": [
    {
     "name": "stdout",
     "output_type": "stream",
     "text": [
      "211103-08:29:51,664 nipype.workflow INFO:\n",
      "\t Workflow preprocWF settings: ['check', 'execution', 'logging', 'monitoring']\n",
      "211103-08:29:51,708 nipype.workflow INFO:\n",
      "\t Running serially.\n",
      "211103-08:29:51,709 nipype.workflow INFO:\n",
      "\t [Node] Setting-up \"preprocWF.selectfiles\" in \"/home/neuro/Result/Nipype_tutorial/working_dir/preprocWF/selectfiles\".\n",
      "211103-08:29:51,734 nipype.workflow INFO:\n",
      "\t [Node] Running \"selectfiles\" (\"nipype.interfaces.io.SelectFiles\")\n",
      "211103-08:29:51,757 nipype.workflow INFO:\n",
      "\t [Node] Finished \"preprocWF.selectfiles\".\n",
      "211103-08:29:51,758 nipype.workflow INFO:\n",
      "\t [Node] Setting-up \"preprocWF.mcflirt\" in \"/home/neuro/Result/Nipype_tutorial/working_dir/preprocWF/mcflirt\".\n",
      "211103-08:29:51,789 nipype.workflow INFO:\n",
      "\t [Node] Running \"mcflirt\" (\"nipype.interfaces.fsl.preprocess.MCFLIRT\"), a CommandLine Interface with command:\n",
      "mcflirt -in /home/neuro/Data/ds000114/sub-01/ses-test/func/sub-01_ses-test_task-fingerfootlips_bold.nii.gz -meanvol -out /home/neuro/Result/Nipype_tutorial/working_dir/preprocWF/mcflirt/sub-01_ses-test_task-fingerfootlips_bold_mcf.nii.gz -plots\n",
      "211103-08:30:50,755 nipype.workflow INFO:\n",
      "\t [Node] Finished \"preprocWF.mcflirt\".\n",
      "211103-08:30:50,756 nipype.workflow INFO:\n",
      "\t [Node] Setting-up \"preprocWF.smooth\" in \"/home/neuro/Result/Nipype_tutorial/working_dir/preprocWF/smooth\".\n",
      "211103-08:30:50,784 nipype.workflow INFO:\n",
      "\t [Node] Running \"smooth\" (\"nipype.interfaces.fsl.maths.IsotropicSmooth\"), a CommandLine Interface with command:\n",
      "fslmaths /home/neuro/Result/Nipype_tutorial/working_dir/preprocWF/mcflirt/sub-01_ses-test_task-fingerfootlips_bold_mcf.nii.gz -s 1.69864 /home/neuro/Result/Nipype_tutorial/working_dir/preprocWF/smooth/sub-01_ses-test_task-fingerfootlips_bold_mcf_smooth.nii.gz\n",
      "211103-08:30:59,181 nipype.workflow INFO:\n",
      "\t [Node] Finished \"preprocWF.smooth\".\n"
     ]
    },
    {
     "data": {
      "text/plain": [
       "<networkx.classes.digraph.DiGraph at 0x7f00943d2280>"
      ]
     },
     "execution_count": 19,
     "metadata": {},
     "output_type": "execute_result"
    }
   ],
   "source": [
    "wf.run()"
   ]
  },
  {
   "cell_type": "markdown",
   "metadata": {},
   "source": [
    "After the execution of the workflow we have all the data hidden in the working directory `'working_dir'`. Let's take a closer look at the content of this folder:"
   ]
  },
  {
   "cell_type": "markdown",
   "metadata": {},
   "source": [
    "As we can see, there is way too much content that we might not really care about. To relocate and rename all the files that are relevant to you, you can use `DataSink`."
   ]
  },
  {
   "cell_type": "markdown",
   "metadata": {},
   "source": [
    "## How to use `DataSink`\n",
    "\n",
    "`DataSink` is Nipype's standard output module to restructure your output files. It allows you to relocate and rename files that you deem relevant.\n",
    "\n",
    "Based on the preprocessing pipeline above, let's say we want to keep the smoothed functional images as well as the motion correction parameters. To do this, we first need to create the `DataSink` object."
   ]
  },
  {
   "cell_type": "code",
   "execution_count": 22,
   "metadata": {},
   "outputs": [
    {
     "data": {
      "text/plain": [
       "\n",
       "mat_file = <undefined>\n",
       "mean_img = <undefined>\n",
       "out_file = <undefined>\n",
       "par_file = <undefined>\n",
       "rms_files = <undefined>\n",
       "std_img = <undefined>\n",
       "variance_img = <undefined>"
      ]
     },
     "execution_count": 22,
     "metadata": {},
     "output_type": "execute_result"
    }
   ],
   "source": [
    "mcflirt.outputs"
   ]
  },
  {
   "cell_type": "code",
   "execution_count": 23,
   "metadata": {},
   "outputs": [
    {
     "name": "stdout",
     "output_type": "stream",
     "text": [
      "211103-08:45:47,459 nipype.workflow INFO:\n",
      "\t Workflow preprocWF settings: ['check', 'execution', 'logging', 'monitoring']\n",
      "211103-08:45:47,477 nipype.workflow INFO:\n",
      "\t Running serially.\n",
      "211103-08:45:47,478 nipype.workflow INFO:\n",
      "\t [Node] Setting-up \"preprocWF.selectfiles\" in \"/home/neuro/Result/Nipype_tutorial/working_dir/preprocWF/selectfiles\".\n",
      "211103-08:45:47,513 nipype.workflow INFO:\n",
      "\t [Node] Running \"selectfiles\" (\"nipype.interfaces.io.SelectFiles\")\n",
      "211103-08:45:47,536 nipype.workflow INFO:\n",
      "\t [Node] Finished \"preprocWF.selectfiles\".\n",
      "211103-08:45:47,536 nipype.workflow INFO:\n",
      "\t [Node] Setting-up \"preprocWF.mcflirt\" in \"/home/neuro/Result/Nipype_tutorial/working_dir/preprocWF/mcflirt\".\n",
      "211103-08:45:47,544 nipype.workflow INFO:\n",
      "\t [Node] Outdated cache found for \"preprocWF.mcflirt\".\n",
      "211103-08:45:47,590 nipype.workflow INFO:\n",
      "\t [Node] Running \"mcflirt\" (\"nipype.interfaces.fsl.preprocess.MCFLIRT\"), a CommandLine Interface with command:\n",
      "mcflirt -in /home/neuro/Data/ds000114/sub-01/ses-test/func/sub-01_ses-test_task-fingerfootlips_bold.nii.gz -meanvol -out /home/neuro/Result/Nipype_tutorial/working_dir/preprocWF/mcflirt/sub-01_ses-test_task-fingerfootlips_bold_mcf.nii.gz -plots\n",
      "211103-08:46:45,470 nipype.workflow INFO:\n",
      "\t [Node] Finished \"preprocWF.mcflirt\".\n",
      "211103-08:46:45,471 nipype.workflow INFO:\n",
      "\t [Node] Setting-up \"preprocWF.smooth\" in \"/home/neuro/Result/Nipype_tutorial/working_dir/preprocWF/smooth\".\n",
      "211103-08:46:45,478 nipype.workflow INFO:\n",
      "\t [Node] Outdated cache found for \"preprocWF.smooth\".\n",
      "211103-08:46:45,523 nipype.workflow INFO:\n",
      "\t [Node] Running \"smooth\" (\"nipype.interfaces.fsl.maths.IsotropicSmooth\"), a CommandLine Interface with command:\n",
      "fslmaths /home/neuro/Result/Nipype_tutorial/working_dir/preprocWF/mcflirt/sub-01_ses-test_task-fingerfootlips_bold_mcf.nii.gz -s 1.69864 /home/neuro/Result/Nipype_tutorial/working_dir/preprocWF/smooth/sub-01_ses-test_task-fingerfootlips_bold_mcf_smooth.nii.gz\n",
      "211103-08:46:54,53 nipype.workflow INFO:\n",
      "\t [Node] Finished \"preprocWF.smooth\".\n",
      "211103-08:46:54,54 nipype.workflow INFO:\n",
      "\t [Node] Setting-up \"preprocWF.sinker\" in \"/home/neuro/Result/Nipype_tutorial/working_dir/preprocWF/sinker\".\n",
      "211103-08:46:54,99 nipype.workflow INFO:\n",
      "\t [Node] Running \"sinker\" (\"nipype.interfaces.io.DataSink\")\n",
      "211103-08:46:54,155 nipype.workflow INFO:\n",
      "\t [Node] Finished \"preprocWF.sinker\".\n"
     ]
    },
    {
     "data": {
      "text/plain": [
       "<networkx.classes.digraph.DiGraph at 0x7f0066094790>"
      ]
     },
     "execution_count": 23,
     "metadata": {},
     "output_type": "execute_result"
    }
   ],
   "source": [
    "from nipype.interfaces.io import DataSink\n",
    "\n",
    "# Create DataSink object\n",
    "sinker = Node(DataSink(base_directory = '/home/neuro/Result/Nipype_tutorial/working_dir/preprocWF_output'), name='sinker')\n",
    "\n",
    "# Connect DataSink with the relevant nodes\n",
    "wf.connect([(smooth, sinker, [('out_file', 'in_file')]),\n",
    "            (mcflirt, sinker, [('mean_img', 'mean_img'),\n",
    "                               ('par_file', 'par_file')]),\n",
    "            ])\n",
    "wf.run()"
   ]
  },
  {
   "cell_type": "markdown",
   "metadata": {},
   "source": [
    "Let's take a look at the `output` folder:"
   ]
  },
  {
   "cell_type": "code",
   "execution_count": 27,
   "metadata": {},
   "outputs": [
    {
     "name": "stdout",
     "output_type": "stream",
     "text": [
      "211103-08:52:02,562 nipype.workflow INFO:\n",
      "\t Generated workflow graph: /home/neuro/Result/Nipype_tutorial/working_dir/preprocWF/wf_flat.png (graph2use=flat, simple_form=True).\n"
     ]
    },
    {
     "data": {
      "image/png": "[encoded data removed]",
      "text/plain": [
       "<IPython.core.display.Image object>"
      ]
     },
     "execution_count": 27,
     "metadata": {},
     "output_type": "execute_result"
    }
   ],
   "source": [
    "wf.write_graph(dotfilename='wf_flat.dot', graph2use='flat')\n",
    "from IPython.display import Image\n",
    "Image('/home/neuro/Result/Nipype_tutorial/working_dir/preprocWF/wf_flat_detailed.png')"
   ]
  },
  {
   "cell_type": "markdown",
   "metadata": {},
   "source": [
    "This looks nice. It is what we asked it to do. But having a specific output folder for each individual output file might be suboptimal. So let's change the code above to save the output in one folder, which we will call `'preproc'`.\n",
    "\n",
    "For this we can use the same code as above. We only have to change the connection part:"
   ]
  },
  {
   "cell_type": "code",
   "execution_count": 28,
   "metadata": {},
   "outputs": [
    {
     "name": "stdout",
     "output_type": "stream",
     "text": [
      "211103-09:08:42,377 nipype.workflow INFO:\n",
      "\t Workflow preprocWF settings: ['check', 'execution', 'logging', 'monitoring']\n",
      "211103-09:08:42,394 nipype.workflow INFO:\n",
      "\t Running serially.\n",
      "211103-09:08:42,395 nipype.workflow INFO:\n",
      "\t [Node] Setting-up \"preprocWF.selectfiles\" in \"/home/neuro/Result/Nipype_tutorial/working_dir/preprocWF/selectfiles\".\n",
      "211103-09:08:42,432 nipype.workflow INFO:\n",
      "\t [Node] Running \"selectfiles\" (\"nipype.interfaces.io.SelectFiles\")\n",
      "211103-09:08:42,455 nipype.workflow INFO:\n",
      "\t [Node] Finished \"preprocWF.selectfiles\".\n",
      "211103-09:08:42,456 nipype.workflow INFO:\n",
      "\t [Node] Setting-up \"preprocWF.mcflirt\" in \"/home/neuro/Result/Nipype_tutorial/working_dir/preprocWF/mcflirt\".\n",
      "211103-09:08:42,465 nipype.workflow INFO:\n",
      "\t [Node] Cached \"preprocWF.mcflirt\" - collecting precomputed outputs\n",
      "211103-09:08:42,466 nipype.workflow INFO:\n",
      "\t [Node] \"preprocWF.mcflirt\" found cached.\n",
      "211103-09:08:42,466 nipype.workflow INFO:\n",
      "\t [Node] Setting-up \"preprocWF.smooth\" in \"/home/neuro/Result/Nipype_tutorial/working_dir/preprocWF/smooth\".\n",
      "211103-09:08:42,475 nipype.workflow INFO:\n",
      "\t [Node] Cached \"preprocWF.smooth\" - collecting precomputed outputs\n",
      "211103-09:08:42,476 nipype.workflow INFO:\n",
      "\t [Node] \"preprocWF.smooth\" found cached.\n",
      "211103-09:08:42,476 nipype.workflow INFO:\n",
      "\t [Node] Setting-up \"preprocWF.sinker\" in \"/home/neuro/Result/Nipype_tutorial/working_dir/preprocWF/sinker\".\n",
      "211103-09:08:42,484 nipype.workflow INFO:\n",
      "\t [Node] Outdated cache found for \"preprocWF.sinker\".\n",
      "211103-09:08:42,522 nipype.workflow INFO:\n",
      "\t [Node] Running \"sinker\" (\"nipype.interfaces.io.DataSink\")\n",
      "211103-09:08:42,568 nipype.workflow INFO:\n",
      "\t [Node] Finished \"preprocWF.sinker\".\n"
     ]
    },
    {
     "data": {
      "text/plain": [
       "<networkx.classes.digraph.DiGraph at 0x7f0065a1c700>"
      ]
     },
     "execution_count": 28,
     "metadata": {},
     "output_type": "execute_result"
    }
   ],
   "source": [
    "wf.connect([(smooth, sinker, [('out_file', 'preproc.@in_file')]),\n",
    "            (mcflirt, sinker, [('mean_img', 'preproc.@mean_img'),\n",
    "                               ('par_file', 'preproc.@par_file')]),\n",
    "            ])\n",
    "wf.run()"
   ]
  },
  {
   "cell_type": "markdown",
   "metadata": {},
   "source": [
    "Let's take a look at the new output folder structure:"
   ]
  },
  {
   "cell_type": "markdown",
   "metadata": {},
   "source": [
    "This is already much better. But what if you want to rename the output files to represent something a bit more readable. For this `DataSink` has the `substitution` input field.\n",
    "\n",
    "For example, let's assume we want to get rid of the string `'task-fingerfootlips'` and `'bold_mcf'` and that we want to rename the mean file, as well as adapt the file ending of the motion parameter file:"
   ]
  },
  {
   "cell_type": "code",
   "execution_count": 29,
   "metadata": {},
   "outputs": [
    {
     "name": "stdout",
     "output_type": "stream",
     "text": [
      "211103-09:19:00,34 nipype.workflow INFO:\n",
      "\t Workflow preprocWF settings: ['check', 'execution', 'logging', 'monitoring']\n",
      "211103-09:19:00,52 nipype.workflow INFO:\n",
      "\t Running serially.\n",
      "211103-09:19:00,52 nipype.workflow INFO:\n",
      "\t [Node] Setting-up \"preprocWF.selectfiles\" in \"/home/neuro/Result/Nipype_tutorial/working_dir/preprocWF/selectfiles\".\n",
      "211103-09:19:00,89 nipype.workflow INFO:\n",
      "\t [Node] Running \"selectfiles\" (\"nipype.interfaces.io.SelectFiles\")\n",
      "211103-09:19:00,113 nipype.workflow INFO:\n",
      "\t [Node] Finished \"preprocWF.selectfiles\".\n",
      "211103-09:19:00,113 nipype.workflow INFO:\n",
      "\t [Node] Setting-up \"preprocWF.mcflirt\" in \"/home/neuro/Result/Nipype_tutorial/working_dir/preprocWF/mcflirt\".\n",
      "211103-09:19:00,119 nipype.workflow INFO:\n",
      "\t [Node] Cached \"preprocWF.mcflirt\" - collecting precomputed outputs\n",
      "211103-09:19:00,120 nipype.workflow INFO:\n",
      "\t [Node] \"preprocWF.mcflirt\" found cached.\n",
      "211103-09:19:00,120 nipype.workflow INFO:\n",
      "\t [Node] Setting-up \"preprocWF.smooth\" in \"/home/neuro/Result/Nipype_tutorial/working_dir/preprocWF/smooth\".\n",
      "211103-09:19:00,125 nipype.workflow INFO:\n",
      "\t [Node] Cached \"preprocWF.smooth\" - collecting precomputed outputs\n",
      "211103-09:19:00,126 nipype.workflow INFO:\n",
      "\t [Node] \"preprocWF.smooth\" found cached.\n",
      "211103-09:19:00,127 nipype.workflow INFO:\n",
      "\t [Node] Setting-up \"preprocWF.sinker\" in \"/home/neuro/Result/Nipype_tutorial/working_dir/preprocWF/sinker\".\n",
      "211103-09:19:00,136 nipype.workflow INFO:\n",
      "\t [Node] Outdated cache found for \"preprocWF.sinker\".\n",
      "211103-09:19:00,170 nipype.workflow INFO:\n",
      "\t [Node] Running \"sinker\" (\"nipype.interfaces.io.DataSink\")\n",
      "211103-09:19:00,171 nipype.interface INFO:\n",
      "\t sub: /home/neuro/Result/Nipype_tutorial/working_dir/preprocWF_output/in_file/sub-01_ses-test_task-fingerfootlips_bold_mcf_smooth.nii.gz -> /home/neuro/Result/Nipype_tutorial/working_dir/preprocWF_output/in_file/sub-01_smooth.nii.gz\n",
      "211103-09:19:00,177 nipype.interface INFO:\n",
      "\t sub: /home/neuro/Result/Nipype_tutorial/working_dir/preprocWF_output/preproc/sub-01_ses-test_task-fingerfootlips_bold_mcf_smooth.nii.gz -> /home/neuro/Result/Nipype_tutorial/working_dir/preprocWF_output/preproc/sub-01_smooth.nii.gz\n",
      "211103-09:19:00,185 nipype.interface INFO:\n",
      "\t sub: /home/neuro/Result/Nipype_tutorial/working_dir/preprocWF_output/mean_img/sub-01_ses-test_task-fingerfootlips_bold_mcf.nii.gz_mean_reg.nii.gz -> /home/neuro/Result/Nipype_tutorial/working_dir/preprocWF_output/mean_img/sub-01_mean.nii.gz\n",
      "211103-09:19:00,191 nipype.interface INFO:\n",
      "\t sub: /home/neuro/Result/Nipype_tutorial/working_dir/preprocWF_output/par_file/sub-01_ses-test_task-fingerfootlips_bold_mcf.nii.gz.par -> /home/neuro/Result/Nipype_tutorial/working_dir/preprocWF_output/par_file/sub-01.par\n",
      "211103-09:19:00,197 nipype.interface INFO:\n",
      "\t sub: /home/neuro/Result/Nipype_tutorial/working_dir/preprocWF_output/preproc/sub-01_ses-test_task-fingerfootlips_bold_mcf.nii.gz_mean_reg.nii.gz -> /home/neuro/Result/Nipype_tutorial/working_dir/preprocWF_output/preproc/sub-01_mean.nii.gz\n",
      "211103-09:19:00,204 nipype.interface INFO:\n",
      "\t sub: /home/neuro/Result/Nipype_tutorial/working_dir/preprocWF_output/preproc/sub-01_ses-test_task-fingerfootlips_bold_mcf.nii.gz.par -> /home/neuro/Result/Nipype_tutorial/working_dir/preprocWF_output/preproc/sub-01.par\n",
      "211103-09:19:00,232 nipype.workflow INFO:\n",
      "\t [Node] Finished \"preprocWF.sinker\".\n"
     ]
    },
    {
     "data": {
      "text/plain": [
       "<networkx.classes.digraph.DiGraph at 0x7f0065a4bf40>"
      ]
     },
     "execution_count": 29,
     "metadata": {},
     "output_type": "execute_result"
    }
   ],
   "source": [
    "# Define substitution strings\n",
    "substitutions = [('_task-fingerfootlips', ''),\n",
    "                 (\"_ses-test\", \"\"),\n",
    "                 ('_bold_mcf', ''),\n",
    "                 ('.nii.gz_mean_reg', '_mean'),\n",
    "                 ('.nii.gz.par', '.par')]\n",
    "\n",
    "# Feed the substitution strings to the DataSink node\n",
    "sinker.inputs.substitutions = substitutions\n",
    "\n",
    "# Run the workflow again with the substitutions in place\n",
    "wf.run()"
   ]
  },
  {
   "cell_type": "markdown",
   "metadata": {},
   "source": [
    "Now, let's take a final look at the output folder:"
   ]
  },
  {
   "cell_type": "markdown",
   "metadata": {},
   "source": [
    "Cool, much clearer filenames!"
   ]
  },
  {
   "cell_type": "markdown",
   "metadata": {},
   "source": [
    "### Exercise 1\n",
    "Create a simple workflow for skullstriping with FSL, the first node should use `BET` interface and the second node will be a ``DataSink``. Test two methods of connecting the nodes and check the content of the output directory."
   ]
  },
  {
   "cell_type": "code",
   "execution_count": 66,
   "metadata": {
    "solution2": "hidden",
    "solution2_first": true
   },
   "outputs": [],
   "source": [
    "# write your solution here\n",
    "from nipype.interfaces.fsl import BET\n",
    "from nipype.interfaces.io import DataSink, SelectFiles\n",
    "from nipype import Workflow, Node, IdentityInterface\n",
    "\n",
    "\n",
    "infosource = Node(IdentityInterface(fields=['id']), name='infosource')\n",
    "infosource.iterables = [('id',['01', '02', '03'])]\n",
    "select_node = Node(SelectFiles(templates= {'anat':'sub-{id}/ses-retest/anat/*T1w*.nii.gz'}, base_directory='/home/neuro/Data/ds000114'), name='select')\n",
    "bet_node = Node(BET(mask=True), name='skullstrip')\n",
    "sinker = Node(DataSink(base_directory = '/home/neuro/Result/Nipype_tutorial/working_dir/preproc_ex1/preproc_output', substitutions=[('ses-retest_','')]\n",
    "), name='datasink')\n",
    "\n",
    "ex1_wf = Workflow(base_dir='/home/neuro/Result/Nipype_tutorial/working_dir', name='preproc_ex1')\n",
    "\n",
    "#first method to connect the nodes\n",
    "ex1_wf.connect([(infosource, select_node,[('id','id')]), \n",
    "                (select_node, bet_node, [('anat', 'in_file')]), \n",
    "                (bet_node, sinker, [('out_file', 'bet.@bet_file'),\n",
    "                                     ('mask_file', 'mask.@mask_file')])])\n"
   ]
  },
  {
   "cell_type": "code",
   "execution_count": 67,
   "metadata": {},
   "outputs": [
    {
     "name": "stdout",
     "output_type": "stream",
     "text": [
      "211103-10:49:47,602 nipype.workflow INFO:\n",
      "\t Generated workflow graph: /home/neuro/Result/Nipype_tutorial/working_dir/preproc_ex1/ex1_wf_flat.png (graph2use=flat, simple_form=True).\n"
     ]
    },
    {
     "data": {
      "image/png": "[encoded data removed]",
      "text/plain": [
       "<IPython.core.display.Image object>"
      ]
     },
     "execution_count": 67,
     "metadata": {},
     "output_type": "execute_result"
    }
   ],
   "source": [
    "ex1_wf.write_graph('ex1_wf_flat.dot', graph2use='flat')\n",
    "Image('/home/neuro/Result/Nipype_tutorial/working_dir/preproc_ex1/ex1_wf_flat_detailed.png')"
   ]
  },
  {
   "cell_type": "code",
   "execution_count": 68,
   "metadata": {},
   "outputs": [
    {
     "name": "stdout",
     "output_type": "stream",
     "text": [
      "211103-10:49:49,75 nipype.workflow INFO:\n",
      "\t Workflow preproc_ex1 settings: ['check', 'execution', 'logging', 'monitoring']\n",
      "211103-10:49:49,100 nipype.workflow INFO:\n",
      "\t Running serially.\n",
      "211103-10:49:49,101 nipype.workflow INFO:\n",
      "\t [Node] Setting-up \"preproc_ex1.select\" in \"/home/neuro/Result/Nipype_tutorial/working_dir/preproc_ex1/_id_03/select\".\n",
      "211103-10:49:49,145 nipype.workflow INFO:\n",
      "\t [Node] Running \"select\" (\"nipype.interfaces.io.SelectFiles\")\n",
      "211103-10:49:49,171 nipype.workflow INFO:\n",
      "\t [Node] Finished \"preproc_ex1.select\".\n",
      "211103-10:49:49,171 nipype.workflow INFO:\n",
      "\t [Node] Setting-up \"preproc_ex1.skullstrip\" in \"/home/neuro/Result/Nipype_tutorial/working_dir/preproc_ex1/_id_03/skullstrip\".\n",
      "211103-10:49:49,176 nipype.workflow INFO:\n",
      "\t [Node] Cached \"preproc_ex1.skullstrip\" - collecting precomputed outputs\n",
      "211103-10:49:49,177 nipype.workflow INFO:\n",
      "\t [Node] \"preproc_ex1.skullstrip\" found cached.\n",
      "211103-10:49:49,178 nipype.workflow INFO:\n",
      "\t [Node] Setting-up \"preproc_ex1.datasink\" in \"/home/neuro/Result/Nipype_tutorial/working_dir/preproc_ex1/_id_03/datasink\".\n",
      "211103-10:49:49,225 nipype.workflow INFO:\n",
      "\t [Node] Running \"datasink\" (\"nipype.interfaces.io.DataSink\")\n",
      "211103-10:49:49,227 nipype.interface INFO:\n",
      "\t sub: /home/neuro/Result/Nipype_tutorial/working_dir/preproc_ex1/preproc_output/bet/_id_03/sub-03_ses-retest_T1w_brain.nii.gz -> /home/neuro/Result/Nipype_tutorial/working_dir/preproc_ex1/preproc_output/bet/_id_03/sub-03_T1w_brain.nii.gz\n",
      "211103-10:49:49,229 nipype.interface INFO:\n",
      "\t sub: /home/neuro/Result/Nipype_tutorial/working_dir/preproc_ex1/preproc_output/mask/_id_03/sub-03_ses-retest_T1w_brain_mask.nii.gz -> /home/neuro/Result/Nipype_tutorial/working_dir/preproc_ex1/preproc_output/mask/_id_03/sub-03_T1w_brain_mask.nii.gz\n",
      "211103-10:49:49,260 nipype.workflow INFO:\n",
      "\t [Node] Finished \"preproc_ex1.datasink\".\n",
      "211103-10:49:49,261 nipype.workflow INFO:\n",
      "\t [Node] Setting-up \"preproc_ex1.select\" in \"/home/neuro/Result/Nipype_tutorial/working_dir/preproc_ex1/_id_02/select\".\n",
      "211103-10:49:49,307 nipype.workflow INFO:\n",
      "\t [Node] Running \"select\" (\"nipype.interfaces.io.SelectFiles\")\n",
      "211103-10:49:49,329 nipype.workflow INFO:\n",
      "\t [Node] Finished \"preproc_ex1.select\".\n",
      "211103-10:49:49,330 nipype.workflow INFO:\n",
      "\t [Node] Setting-up \"preproc_ex1.skullstrip\" in \"/home/neuro/Result/Nipype_tutorial/working_dir/preproc_ex1/_id_02/skullstrip\".\n",
      "211103-10:49:49,335 nipype.workflow INFO:\n",
      "\t [Node] Cached \"preproc_ex1.skullstrip\" - collecting precomputed outputs\n",
      "211103-10:49:49,335 nipype.workflow INFO:\n",
      "\t [Node] \"preproc_ex1.skullstrip\" found cached.\n",
      "211103-10:49:49,336 nipype.workflow INFO:\n",
      "\t [Node] Setting-up \"preproc_ex1.datasink\" in \"/home/neuro/Result/Nipype_tutorial/working_dir/preproc_ex1/_id_02/datasink\".\n",
      "211103-10:49:49,381 nipype.workflow INFO:\n",
      "\t [Node] Running \"datasink\" (\"nipype.interfaces.io.DataSink\")\n",
      "211103-10:49:49,382 nipype.interface INFO:\n",
      "\t sub: /home/neuro/Result/Nipype_tutorial/working_dir/preproc_ex1/preproc_output/bet/_id_02/sub-02_ses-retest_T1w_brain.nii.gz -> /home/neuro/Result/Nipype_tutorial/working_dir/preproc_ex1/preproc_output/bet/_id_02/sub-02_T1w_brain.nii.gz\n",
      "211103-10:49:49,384 nipype.interface INFO:\n",
      "\t sub: /home/neuro/Result/Nipype_tutorial/working_dir/preproc_ex1/preproc_output/mask/_id_02/sub-02_ses-retest_T1w_brain_mask.nii.gz -> /home/neuro/Result/Nipype_tutorial/working_dir/preproc_ex1/preproc_output/mask/_id_02/sub-02_T1w_brain_mask.nii.gz\n",
      "211103-10:49:49,408 nipype.workflow INFO:\n",
      "\t [Node] Finished \"preproc_ex1.datasink\".\n",
      "211103-10:49:49,409 nipype.workflow INFO:\n",
      "\t [Node] Setting-up \"preproc_ex1.select\" in \"/home/neuro/Result/Nipype_tutorial/working_dir/preproc_ex1/_id_01/select\".\n",
      "211103-10:49:49,448 nipype.workflow INFO:\n",
      "\t [Node] Running \"select\" (\"nipype.interfaces.io.SelectFiles\")\n",
      "211103-10:49:49,470 nipype.workflow INFO:\n",
      "\t [Node] Finished \"preproc_ex1.select\".\n",
      "211103-10:49:49,470 nipype.workflow INFO:\n",
      "\t [Node] Setting-up \"preproc_ex1.skullstrip\" in \"/home/neuro/Result/Nipype_tutorial/working_dir/preproc_ex1/_id_01/skullstrip\".\n",
      "211103-10:49:49,476 nipype.workflow INFO:\n",
      "\t [Node] Cached \"preproc_ex1.skullstrip\" - collecting precomputed outputs\n",
      "211103-10:49:49,476 nipype.workflow INFO:\n",
      "\t [Node] \"preproc_ex1.skullstrip\" found cached.\n",
      "211103-10:49:49,477 nipype.workflow INFO:\n",
      "\t [Node] Setting-up \"preproc_ex1.datasink\" in \"/home/neuro/Result/Nipype_tutorial/working_dir/preproc_ex1/_id_01/datasink\".\n",
      "211103-10:49:49,521 nipype.workflow INFO:\n",
      "\t [Node] Running \"datasink\" (\"nipype.interfaces.io.DataSink\")\n",
      "211103-10:49:49,522 nipype.interface INFO:\n",
      "\t sub: /home/neuro/Result/Nipype_tutorial/working_dir/preproc_ex1/preproc_output/bet/_id_01/sub-01_ses-retest_T1w_brain.nii.gz -> /home/neuro/Result/Nipype_tutorial/working_dir/preproc_ex1/preproc_output/bet/_id_01/sub-01_T1w_brain.nii.gz\n",
      "211103-10:49:49,523 nipype.interface INFO:\n",
      "\t sub: /home/neuro/Result/Nipype_tutorial/working_dir/preproc_ex1/preproc_output/mask/_id_01/sub-01_ses-retest_T1w_brain_mask.nii.gz -> /home/neuro/Result/Nipype_tutorial/working_dir/preproc_ex1/preproc_output/mask/_id_01/sub-01_T1w_brain_mask.nii.gz\n",
      "211103-10:49:49,544 nipype.workflow INFO:\n",
      "\t [Node] Finished \"preproc_ex1.datasink\".\n"
     ]
    },
    {
     "data": {
      "text/plain": [
       "<networkx.classes.digraph.DiGraph at 0x7f0065a6b460>"
      ]
     },
     "execution_count": 68,
     "metadata": {},
     "output_type": "execute_result"
    }
   ],
   "source": [
    "ex1_wf.run()"
   ]
  },
  {
   "cell_type": "code",
   "execution_count": null,
   "metadata": {
    "solution2": "hidden"
   },
   "outputs": [],
   "source": [
    "from nipype import Node, Workflow\n",
    "from nipype.interfaces.io import DataSink\n",
    "from nipype.interfaces.fsl import BET\n",
    "\n",
    "# Skullstrip process\n",
    "ex1_skullstrip = Node(BET(mask=True), name=\"ex1_skullstrip\")\n",
    "ex1_skullstrip.inputs.in_file = \"/home/neuro/Data/ds000114/sub-01/ses-test/anat/sub-01_ses-test_T1w.nii.gz\""
   ]
  },
  {
   "cell_type": "code",
   "execution_count": null,
   "metadata": {
    "solution2": "hidden"
   },
   "outputs": [],
   "source": [
    "# Create DataSink node\n",
    "ex1_sinker = Node(DataSink(), name='ex1_sinker')\n",
    "ex1_sinker.inputs.base_directory = '/home/neuro/Result/Nipype_tutorial/working_dir/ex1_output'\n",
    "\n",
    "# and a workflow\n",
    "ex1_wf = Workflow(name=\"ex1\", base_dir = '/output/working_dir')"
   ]
  },
  {
   "cell_type": "code",
   "execution_count": null,
   "metadata": {
    "solution2": "hidden"
   },
   "outputs": [],
   "source": [
    "# let's try the first method of connecting the BET node to the DataSink node\n",
    "ex1_wf.connect([(ex1_skullstrip, ex1_sinker, [('mask_file', 'mask_file'),\n",
    "                                              ('out_file', 'out_file')]),\n",
    "            ])\n",
    "ex1_wf.run()"
   ]
  },
  {
   "cell_type": "code",
   "execution_count": null,
   "metadata": {
    "solution2": "hidden"
   },
   "outputs": [],
   "source": [
    "# now we can try the other method of connecting the node to DataSink\n",
    "ex1_wf.connect([(ex1_skullstrip, ex1_sinker, [('mask_file', 'bet.@mask_file'),\n",
    "                                              ('out_file', 'bet.@out_file')]),\n",
    "            ])\n",
    "ex1_wf.run()"
   ]
  }
 ],
 "metadata": {
  "anaconda-cloud": {},
  "kernelspec": {
   "display_name": "Python 3 (ipykernel)",
   "language": "python",
   "name": "python3"
  }
 },
 "nbformat": 4,
 "nbformat_minor": 2
}
