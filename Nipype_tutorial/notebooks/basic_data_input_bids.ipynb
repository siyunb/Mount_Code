{
 "cells": [
  {
   "cell_type": "markdown",
   "metadata": {},
   "source": [
    "## Data input for BIDS datasets\n",
    "`DataGrabber` and `SelectFiles` are great if you are dealing with generic datasets with arbitrary organization. However, if you have decided to use Brain Imaging Data Structure (BIDS) to organize your data (or got your hands on a BIDS dataset) you can take advantage of a formal structure BIDS imposes. In this short tutorial, you will learn how to do this."
   ]
  },
  {
   "cell_type": "markdown",
   "metadata": {},
   "source": [
    "## `pybids` - a Python API for working with BIDS datasets\n",
    "`pybids` is a lightweight python API for querying BIDS folder structure for specific files and metadata. You can install it from PyPi:\n",
    "```\n",
    "pip install pybids\n",
    "```\n",
    "Please note it should be already installed in the tutorial Docker image."
   ]
  },
  {
   "cell_type": "markdown",
   "metadata": {},
   "source": [
    "## The `layout` object and simple queries\n",
    "To begin working with pybids we need to initialize a layout object. We will need it to do all of our queries"
   ]
  },
  {
   "cell_type": "code",
   "execution_count": 2,
   "metadata": {},
   "outputs": [],
   "source": [
    "from bids.layout import BIDSLayout\n",
    "layout = BIDSLayout(\"/home/neuro/Data/ds000114/\")"
   ]
  },
  {
   "cell_type": "markdown",
   "metadata": {},
   "source": [
    "Let's figure out what are the subject labels in this dataset"
   ]
  },
  {
   "cell_type": "code",
   "execution_count": 5,
   "metadata": {},
   "outputs": [
    {
     "data": {
      "text/plain": [
       "['06', '10', '04', '09', '08', '05', '01', '02', '07', '03']"
      ]
     },
     "execution_count": 5,
     "metadata": {},
     "output_type": "execute_result"
    }
   ],
   "source": [
    "layout.get_subjects()"
   ]
  },
  {
   "cell_type": "markdown",
   "metadata": {},
   "source": [
    "What datatypes are included in this dataset?"
   ]
  },
  {
   "cell_type": "code",
   "execution_count": 6,
   "metadata": {},
   "outputs": [
    {
     "data": {
      "text/plain": [
       "['dwi', 'func', 'anat']"
      ]
     },
     "execution_count": 6,
     "metadata": {},
     "output_type": "execute_result"
    }
   ],
   "source": [
    "layout.get_datatypes()"
   ]
  },
  {
   "cell_type": "markdown",
   "metadata": {},
   "source": [
    "Which different data suffixes are included in this dataset?"
   ]
  },
  {
   "cell_type": "code",
   "execution_count": 7,
   "metadata": {},
   "outputs": [
    {
     "data": {
      "text/plain": [
       "['events', 'bold']"
      ]
     },
     "execution_count": 7,
     "metadata": {},
     "output_type": "execute_result"
    }
   ],
   "source": [
    "layout.get_suffixes(datatype='func')"
   ]
  },
  {
   "cell_type": "markdown",
   "metadata": {},
   "source": [
    "What are the different tasks included in this dataset?"
   ]
  },
  {
   "cell_type": "code",
   "execution_count": 9,
   "metadata": {},
   "outputs": [
    {
     "data": {
      "text/plain": [
       "['covertverbgeneration',\n",
       " 'overtverbgeneration',\n",
       " 'fingerfootlips',\n",
       " 'linebisection',\n",
       " 'overtwordrepetition']"
      ]
     },
     "execution_count": 9,
     "metadata": {},
     "output_type": "execute_result"
    }
   ],
   "source": [
    "layout.get_tasks()"
   ]
  },
  {
   "cell_type": "markdown",
   "metadata": {},
   "source": [
    "We can also ask for all of the data for a particular subject and one datatype."
   ]
  },
  {
   "cell_type": "code",
   "execution_count": 10,
   "metadata": {},
   "outputs": [
    {
     "data": {
      "text/plain": [
       "[<BIDSFile filename='sub-01/ses-test/anat/sub-01_ses-test_T1w.nii.gz'>]"
      ]
     },
     "execution_count": 10,
     "metadata": {},
     "output_type": "execute_result"
    }
   ],
   "source": [
    "layout.get(subject='01', datatype=\"anat\", session=\"test\")"
   ]
  },
  {
   "cell_type": "markdown",
   "metadata": {},
   "source": [
    "We can also ask for a specific subset of data. Note that we are using extension filter to get just the imaging data (BIDS allows both .nii and .nii.gz so we need to include both)."
   ]
  },
  {
   "cell_type": "code",
   "execution_count": 11,
   "metadata": {},
   "outputs": [
    {
     "data": {
      "text/plain": [
       "[<BIDSFile filename='sub-01/ses-retest/func/sub-01_ses-retest_task-covertverbgeneration_bold.nii.gz'>,\n",
       " <BIDSFile filename='sub-01/ses-retest/func/sub-01_ses-retest_task-fingerfootlips_bold.nii.gz'>,\n",
       " <BIDSFile filename='sub-01/ses-retest/func/sub-01_ses-retest_task-linebisection_bold.nii.gz'>,\n",
       " <BIDSFile filename='sub-01/ses-retest/func/sub-01_ses-retest_task-overtverbgeneration_bold.nii.gz'>,\n",
       " <BIDSFile filename='sub-01/ses-retest/func/sub-01_ses-retest_task-overtwordrepetition_bold.nii.gz'>,\n",
       " <BIDSFile filename='sub-01/ses-test/func/sub-01_ses-test_task-covertverbgeneration_bold.nii.gz'>,\n",
       " <BIDSFile filename='sub-01/ses-test/func/sub-01_ses-test_task-fingerfootlips_bold.nii.gz'>,\n",
       " <BIDSFile filename='sub-01/ses-test/func/sub-01_ses-test_task-linebisection_bold.nii.gz'>,\n",
       " <BIDSFile filename='sub-01/ses-test/func/sub-01_ses-test_task-overtverbgeneration_bold.nii.gz'>,\n",
       " <BIDSFile filename='sub-01/ses-test/func/sub-01_ses-test_task-overtwordrepetition_bold.nii.gz'>]"
      ]
     },
     "execution_count": 11,
     "metadata": {},
     "output_type": "execute_result"
    }
   ],
   "source": [
    "layout.get(subject='01', suffix='bold', extensions=['nii', 'nii.gz'])"
   ]
  },
  {
   "cell_type": "markdown",
   "metadata": {},
   "source": [
    "You probably noticed that this method does not only return the file paths, but objects with relevant query fields. We can easily extract just the file paths."
   ]
  },
  {
   "cell_type": "code",
   "execution_count": 12,
   "metadata": {},
   "outputs": [
    {
     "data": {
      "text/plain": [
       "['/home/neuro/Data/ds000114/sub-01/ses-retest/func/sub-01_ses-retest_task-covertverbgeneration_bold.nii.gz',\n",
       " '/home/neuro/Data/ds000114/sub-01/ses-retest/func/sub-01_ses-retest_task-fingerfootlips_bold.nii.gz',\n",
       " '/home/neuro/Data/ds000114/sub-01/ses-retest/func/sub-01_ses-retest_task-linebisection_bold.nii.gz',\n",
       " '/home/neuro/Data/ds000114/sub-01/ses-retest/func/sub-01_ses-retest_task-overtverbgeneration_bold.nii.gz',\n",
       " '/home/neuro/Data/ds000114/sub-01/ses-retest/func/sub-01_ses-retest_task-overtwordrepetition_bold.nii.gz',\n",
       " '/home/neuro/Data/ds000114/sub-01/ses-test/func/sub-01_ses-test_task-covertverbgeneration_bold.nii.gz',\n",
       " '/home/neuro/Data/ds000114/sub-01/ses-test/func/sub-01_ses-test_task-fingerfootlips_bold.nii.gz',\n",
       " '/home/neuro/Data/ds000114/sub-01/ses-test/func/sub-01_ses-test_task-linebisection_bold.nii.gz',\n",
       " '/home/neuro/Data/ds000114/sub-01/ses-test/func/sub-01_ses-test_task-overtverbgeneration_bold.nii.gz',\n",
       " '/home/neuro/Data/ds000114/sub-01/ses-test/func/sub-01_ses-test_task-overtwordrepetition_bold.nii.gz']"
      ]
     },
     "execution_count": 12,
     "metadata": {},
     "output_type": "execute_result"
    }
   ],
   "source": [
    "layout.get(subject='01', suffix='bold', extensions=['nii', 'nii.gz'], return_type='file')"
   ]
  },
  {
   "cell_type": "markdown",
   "metadata": {},
   "source": [
    "### Exercise 1:\n",
    "List all files for the \"linebisection\" task for subject 02."
   ]
  },
  {
   "cell_type": "code",
   "execution_count": 16,
   "metadata": {
    "solution2": "shown",
    "solution2_first": true
   },
   "outputs": [
    {
     "data": {
      "text/plain": [
       "['/home/neuro/Data/ds000114/sub-02/ses-retest/func/sub-02_ses-retest_task-linebisection_bold.nii.gz',\n",
       " '/home/neuro/Data/ds000114/sub-02/ses-test/func/sub-02_ses-test_task-linebisection_bold.nii.gz']"
      ]
     },
     "execution_count": 16,
     "metadata": {},
     "output_type": "execute_result"
    }
   ],
   "source": [
    "#write your solution here\n",
    "layout.get(subject='02', suffix='bold', task='linebisection', return_type='file')"
   ]
  },
  {
   "cell_type": "code",
   "execution_count": 15,
   "metadata": {
    "solution2": "shown"
   },
   "outputs": [
    {
     "data": {
      "text/plain": [
       "['/home/neuro/Data/ds000114/sub-02/ses-retest/func/sub-02_ses-retest_task-linebisection_bold.nii.gz',\n",
       " '/home/neuro/Data/ds000114/sub-02/ses-retest/func/sub-02_ses-retest_task-linebisection_events.tsv',\n",
       " '/home/neuro/Data/ds000114/sub-02/ses-test/func/sub-02_ses-test_task-linebisection_bold.nii.gz',\n",
       " '/home/neuro/Data/ds000114/sub-02/ses-test/func/sub-02_ses-test_task-linebisection_events.tsv']"
      ]
     },
     "execution_count": 15,
     "metadata": {},
     "output_type": "execute_result"
    }
   ],
   "source": [
    "from bids.layout import BIDSLayout\n",
    "layout = BIDSLayout(\"/home/neuro/Data/ds000114/\")\n",
    "\n",
    "layout.get(subject='02', return_type='file', task=\"linebisection\")"
   ]
  },
  {
   "cell_type": "markdown",
   "metadata": {},
   "source": [
    "## `BIDSDataGrabber`: Including `pybids` in your `nipype` workflow\n",
    "This is great, but what we really want is to include this into our nipype workflows. To do this, we can import `BIDSDataGrabber`, which provides an `Interface` for `BIDSLayout.get`"
   ]
  },
  {
   "cell_type": "code",
   "execution_count": 17,
   "metadata": {},
   "outputs": [
    {
     "name": "stdout",
     "output_type": "stream",
     "text": [
      "211102-16:19:32,470 nipype.utils WARNING:\n",
      "\t A newer version (1.7.0) of nipy/nipype is available. You are using 1.6.1\n"
     ]
    }
   ],
   "source": [
    "from nipype.interfaces.io import BIDSDataGrabber\n",
    "from nipype.pipeline import Node, MapNode, Workflow\n",
    "from nipype.interfaces.utility import Function\n",
    "\n",
    "bg = Node(BIDSDataGrabber(), name='bids-grabber')\n",
    "bg.inputs.base_dir = '/home/neuro/Data/ds000114'"
   ]
  },
  {
   "cell_type": "markdown",
   "metadata": {},
   "source": [
    "You can define static filters, that will apply to all queries, by modifying the appropriate input"
   ]
  },
  {
   "cell_type": "code",
   "execution_count": 18,
   "metadata": {},
   "outputs": [
    {
     "name": "stdout",
     "output_type": "stream",
     "text": [
      "211102-16:19:41,286 nipype.workflow INFO:\n",
      "\t [Node] Setting-up \"bids-grabber\" in \"/tmp/tmpu7u1eyql/bids-grabber\".\n",
      "211102-16:19:41,289 nipype.workflow INFO:\n",
      "\t [Node] Running \"bids-grabber\" (\"nipype.interfaces.io.BIDSDataGrabber\")\n",
      "211102-16:19:41,488 nipype.workflow INFO:\n",
      "\t [Node] Finished \"bids-grabber\".\n"
     ]
    },
    {
     "data": {
      "text/plain": [
       "\n",
       "T1w = ['/home/neuro/Data/ds000114/sub-01/ses-retest/anat/sub-01_ses-retest_T1w.nii.gz', '/home/neuro/Data/ds000114/sub-01/ses-test/anat/sub-01_ses-test_T1w.nii.gz']\n",
       "bold = ['/home/neuro/Data/ds000114/sub-01/ses-retest/func/sub-01_ses-retest_task-covertverbgeneration_bold.nii.gz', '/home/neuro/Data/ds000114/sub-01/ses-retest/func/sub-01_ses-retest_task-fingerfootlips_bold.nii.gz', '/home/neuro/Data/ds000114/sub-01/ses-retest/func/sub-01_ses-retest_task-linebisection_bold.nii.gz', '/home/neuro/Data/ds000114/sub-01/ses-retest/func/sub-01_ses-retest_task-overtverbgeneration_bold.nii.gz', '/home/neuro/Data/ds000114/sub-01/ses-retest/func/sub-01_ses-retest_task-overtwordrepetition_bold.nii.gz', '/home/neuro/Data/ds000114/sub-01/ses-test/func/sub-01_ses-test_task-covertverbgeneration_bold.nii.gz', '/home/neuro/Data/ds000114/sub-01/ses-test/func/sub-01_ses-test_task-fingerfootlips_bold.nii.gz', '/home/neuro/Data/ds000114/sub-01/ses-test/func/sub-01_ses-test_task-linebisection_bold.nii.gz', '/home/neuro/Data/ds000114/sub-01/ses-test/func/sub-01_ses-test_task-overtverbgeneration_bold.nii.gz', '/home/neuro/Data/ds000114/sub-01/ses-test/func/sub-01_ses-test_task-overtwordrepetition_bold.nii.gz']"
      ]
     },
     "execution_count": 18,
     "metadata": {},
     "output_type": "execute_result"
    }
   ],
   "source": [
    "bg.inputs.subject = '01'\n",
    "res = bg.run()\n",
    "res.outputs"
   ]
  },
  {
   "cell_type": "markdown",
   "metadata": {},
   "source": [
    "Note that by default `BIDSDataGrabber` will fetch `nifti` files matching datatype `func` and `anat`, and output them as two output fields. \n",
    "\n",
    "To define custom fields, simply define the arguments to pass to `BIDSLayout.get` as dictionary, like so:"
   ]
  },
  {
   "cell_type": "code",
   "execution_count": 29,
   "metadata": {},
   "outputs": [
    {
     "name": "stdout",
     "output_type": "stream",
     "text": [
      "211102-16:36:56,651 nipype.workflow INFO:\n",
      "\t [Node] Setting-up \"bids_demo.bids-grabber\" in \"/tmp/tmpu7u1eyql/bids-grabber\".\n",
      "211102-16:36:56,655 nipype.workflow INFO:\n",
      "\t [Node] Running \"bids-grabber\" (\"nipype.interfaces.io.BIDSDataGrabber\")\n",
      "211102-16:36:56,844 nipype.workflow INFO:\n",
      "\t [Node] Finished \"bids_demo.bids-grabber\".\n"
     ]
    },
    {
     "data": {
      "text/plain": [
       "\n",
       "bolds = ['/home/neuro/Data/ds000114/sub-01/ses-retest/func/sub-01_ses-retest_task-linebisection_bold.nii.gz', '/home/neuro/Data/ds000114/sub-01/ses-test/func/sub-01_ses-test_task-linebisection_bold.nii.gz']"
      ]
     },
     "execution_count": 29,
     "metadata": {},
     "output_type": "execute_result"
    }
   ],
   "source": [
    "bg.inputs.output_query = {'bolds': dict(suffix='bold', task='linebisection')}\n",
    "res = bg.run()\n",
    "res.outputs"
   ]
  },
  {
   "cell_type": "markdown",
   "metadata": {},
   "source": [
    "This results in a single output field `bold`, which returns all files with `suffix:bold` for `subject:\"01\"` \n",
    "\n",
    "Now, lets put it in a workflow. We are not going to analyze any data, but for demonstration purposes, we will add a couple of nodes that pretend to analyze their inputs"
   ]
  },
  {
   "cell_type": "code",
   "execution_count": 30,
   "metadata": {},
   "outputs": [],
   "source": [
    "def printMe(paths):\n",
    "    print(\"\\n\\nanalyzing \" + str(paths) + \"\\n\\n\")\n",
    "    \n",
    "analyzeBOLD = Node(Function(function=printMe, input_names=[\"paths\"],\n",
    "                            output_names=[]), name=\"analyzeBOLD\")"
   ]
  },
  {
   "cell_type": "code",
   "execution_count": 32,
   "metadata": {},
   "outputs": [
    {
     "name": "stdout",
     "output_type": "stream",
     "text": [
      "211102-16:51:36,652 nipype.workflow INFO:\n",
      "\t Workflow bids_demo settings: ['check', 'execution', 'logging', 'monitoring']\n",
      "211102-16:51:36,670 nipype.workflow INFO:\n",
      "\t Running serially.\n",
      "211102-16:51:36,671 nipype.workflow INFO:\n",
      "\t [Node] Setting-up \"bids_demo.bids-grabber\" in \"/tmp/tmpu7u1eyql/bids-grabber\".\n",
      "211102-16:51:36,674 nipype.workflow INFO:\n",
      "\t [Node] Running \"bids-grabber\" (\"nipype.interfaces.io.BIDSDataGrabber\")\n",
      "211102-16:51:36,860 nipype.workflow INFO:\n",
      "\t [Node] Finished \"bids_demo.bids-grabber\".\n",
      "211102-16:51:36,861 nipype.workflow INFO:\n",
      "\t [Node] Setting-up \"bids_demo.analyzeBOLD\" in \"/home/neuro/Result/Nipype_tutorial/working_dir/bids_demo/analyzeBOLD\".\n",
      "211102-16:51:36,869 nipype.workflow INFO:\n",
      "\t [Node] Cached \"bids_demo.analyzeBOLD\" - collecting precomputed outputs\n",
      "211102-16:51:36,870 nipype.workflow INFO:\n",
      "\t [Node] \"bids_demo.analyzeBOLD\" found cached.\n"
     ]
    },
    {
     "data": {
      "text/plain": [
       "<networkx.classes.digraph.DiGraph at 0x7f086329dd90>"
      ]
     },
     "execution_count": 32,
     "metadata": {},
     "output_type": "execute_result"
    }
   ],
   "source": [
    "wf = Workflow(base_dir='/home/neuro/Result/Nipype_tutorial/working_dir', name=\"bids_demo\")\n",
    "wf.connect(bg, \"bolds\", analyzeBOLD, \"paths\")\n",
    "wf.run()"
   ]
  },
  {
   "cell_type": "markdown",
   "metadata": {},
   "source": [
    "### Exercise 2:\n",
    "Modify the `BIDSDataGrabber` and the workflow to collect T1ws images for subject `10`."
   ]
  },
  {
   "cell_type": "code",
   "execution_count": null,
   "metadata": {
    "solution2": "shown",
    "solution2_first": true
   },
   "outputs": [],
   "source": [
    "# write your solution here"
   ]
  },
  {
   "cell_type": "code",
   "execution_count": 34,
   "metadata": {
    "solution2": "shown"
   },
   "outputs": [
    {
     "data": {
      "text/plain": [
       "\n",
       "T1w = ['/home/neuro/Data/ds000114/sub-10/ses-retest/anat/sub-10_ses-retest_T1w.nii.gz', '/home/neuro/Data/ds000114/sub-10/ses-test/anat/sub-10_ses-test_T1w.nii.gz']"
      ]
     },
     "execution_count": 34,
     "metadata": {},
     "output_type": "execute_result"
    }
   ],
   "source": [
    "from nipype.pipeline import Node, MapNode, Workflow\n",
    "from nipype.interfaces.io import BIDSDataGrabber\n",
    "\n",
    "ex2_BIDSDataGrabber = BIDSDataGrabber()\n",
    "ex2_BIDSDataGrabber.inputs.base_dir = '/home/neuro/Data/ds000114'\n",
    "ex2_BIDSDataGrabber.inputs.subject = '10'\n",
    "ex2_BIDSDataGrabber.inputs.output_query = {'T1w': dict(datatype='anat')}\n",
    "\n",
    "ex2_res = ex2_BIDSDataGrabber.run()\n",
    "ex2_res.outputs"
   ]
  },
  {
   "cell_type": "markdown",
   "metadata": {},
   "source": [
    "## Iterating over subject labels\n",
    "In the previous example, we demonstrated how to use `pybids` to \"analyze\" one subject. How can we scale it for all subjects? Easy - using `iterables` (more in [Iteration/Iterables](basic_iteration.ipynb))."
   ]
  },
  {
   "cell_type": "code",
   "execution_count": 35,
   "metadata": {},
   "outputs": [
    {
     "name": "stdout",
     "output_type": "stream",
     "text": [
      "211102-16:58:28,500 nipype.workflow INFO:\n",
      "\t Workflow bids_demo settings: ['check', 'execution', 'logging', 'monitoring']\n",
      "211102-16:58:28,505 nipype.workflow INFO:\n",
      "\t Running serially.\n",
      "211102-16:58:28,506 nipype.workflow INFO:\n",
      "\t [Node] Setting-up \"bids_demo.bids-grabber\" in \"/tmp/tmpqahi6sy3/bids_demo/_subject_10/bids-grabber\".\n",
      "211102-16:58:28,508 nipype.workflow INFO:\n",
      "\t [Node] Running \"bids-grabber\" (\"nipype.interfaces.io.BIDSDataGrabber\")\n",
      "211102-16:58:28,694 nipype.workflow INFO:\n",
      "\t [Node] Finished \"bids_demo.bids-grabber\".\n",
      "211102-16:58:28,695 nipype.workflow INFO:\n",
      "\t [Node] Setting-up \"bids_demo.analyzeBOLD\" in \"/tmp/tmpaz8e_t8y/bids_demo/_subject_10/analyzeBOLD\".\n",
      "211102-16:58:28,697 nipype.workflow INFO:\n",
      "\t [Node] Running \"analyzeBOLD\" (\"nipype.interfaces.utility.wrappers.Function\")\n",
      "\n",
      "\n",
      "analyzing ['/home/neuro/Data/ds000114/sub-10/ses-retest/func/sub-10_ses-retest_task-covertverbgeneration_bold.nii.gz', '/home/neuro/Data/ds000114/sub-10/ses-retest/func/sub-10_ses-retest_task-fingerfootlips_bold.nii.gz', '/home/neuro/Data/ds000114/sub-10/ses-retest/func/sub-10_ses-retest_task-linebisection_bold.nii.gz', '/home/neuro/Data/ds000114/sub-10/ses-retest/func/sub-10_ses-retest_task-overtverbgeneration_bold.nii.gz', '/home/neuro/Data/ds000114/sub-10/ses-retest/func/sub-10_ses-retest_task-overtwordrepetition_bold.nii.gz', '/home/neuro/Data/ds000114/sub-10/ses-test/func/sub-10_ses-test_task-covertverbgeneration_bold.nii.gz', '/home/neuro/Data/ds000114/sub-10/ses-test/func/sub-10_ses-test_task-fingerfootlips_bold.nii.gz', '/home/neuro/Data/ds000114/sub-10/ses-test/func/sub-10_ses-test_task-linebisection_bold.nii.gz', '/home/neuro/Data/ds000114/sub-10/ses-test/func/sub-10_ses-test_task-overtverbgeneration_bold.nii.gz', '/home/neuro/Data/ds000114/sub-10/ses-test/func/sub-10_ses-test_task-overtwordrepetition_bold.nii.gz']\n",
      "\n",
      "\n",
      "211102-16:58:28,700 nipype.workflow INFO:\n",
      "\t [Node] Finished \"bids_demo.analyzeBOLD\".\n",
      "211102-16:58:28,701 nipype.workflow INFO:\n",
      "\t [Node] Setting-up \"bids_demo.bids-grabber\" in \"/tmp/tmp297p6xqz/bids_demo/_subject_06/bids-grabber\".\n",
      "211102-16:58:28,704 nipype.workflow INFO:\n",
      "\t [Node] Running \"bids-grabber\" (\"nipype.interfaces.io.BIDSDataGrabber\")\n",
      "211102-16:58:28,891 nipype.workflow INFO:\n",
      "\t [Node] Finished \"bids_demo.bids-grabber\".\n",
      "211102-16:58:28,892 nipype.workflow INFO:\n",
      "\t [Node] Setting-up \"bids_demo.analyzeBOLD\" in \"/tmp/tmpa7dfq4h4/bids_demo/_subject_06/analyzeBOLD\".\n",
      "211102-16:58:28,894 nipype.workflow INFO:\n",
      "\t [Node] Running \"analyzeBOLD\" (\"nipype.interfaces.utility.wrappers.Function\")\n",
      "\n",
      "\n",
      "analyzing ['/home/neuro/Data/ds000114/sub-06/ses-retest/func/sub-06_ses-retest_task-covertverbgeneration_bold.nii.gz', '/home/neuro/Data/ds000114/sub-06/ses-retest/func/sub-06_ses-retest_task-fingerfootlips_bold.nii.gz', '/home/neuro/Data/ds000114/sub-06/ses-retest/func/sub-06_ses-retest_task-linebisection_bold.nii.gz', '/home/neuro/Data/ds000114/sub-06/ses-retest/func/sub-06_ses-retest_task-overtverbgeneration_bold.nii.gz', '/home/neuro/Data/ds000114/sub-06/ses-retest/func/sub-06_ses-retest_task-overtwordrepetition_bold.nii.gz', '/home/neuro/Data/ds000114/sub-06/ses-test/func/sub-06_ses-test_task-covertverbgeneration_bold.nii.gz', '/home/neuro/Data/ds000114/sub-06/ses-test/func/sub-06_ses-test_task-fingerfootlips_bold.nii.gz', '/home/neuro/Data/ds000114/sub-06/ses-test/func/sub-06_ses-test_task-linebisection_bold.nii.gz', '/home/neuro/Data/ds000114/sub-06/ses-test/func/sub-06_ses-test_task-overtverbgeneration_bold.nii.gz', '/home/neuro/Data/ds000114/sub-06/ses-test/func/sub-06_ses-test_task-overtwordrepetition_bold.nii.gz']\n",
      "\n",
      "\n",
      "211102-16:58:28,898 nipype.workflow INFO:\n",
      "\t [Node] Finished \"bids_demo.analyzeBOLD\".\n"
     ]
    },
    {
     "data": {
      "text/plain": [
       "<networkx.classes.digraph.DiGraph at 0x7f08632df130>"
      ]
     },
     "execution_count": 35,
     "metadata": {},
     "output_type": "execute_result"
    }
   ],
   "source": [
    "bg_all = Node(BIDSDataGrabber(), name='bids-grabber')\n",
    "bg_all.inputs.base_dir = '/home/neuro/Data/ds000114'\n",
    "bg_all.inputs.output_query = {'bolds': dict(suffix='bold')}\n",
    "bg_all.iterables = ('subject', layout.get_subjects()[:2])\n",
    "wf = Workflow(name=\"bids_demo\")\n",
    "wf.connect(bg_all, \"bolds\", analyzeBOLD, \"paths\")\n",
    "wf.run()"
   ]
  },
  {
   "cell_type": "markdown",
   "metadata": {},
   "source": [
    "## Accessing additional metadata\n",
    "Querying different files is nice, but sometimes you want to access more metadata. For example `RepetitionTime`. `pybids` can help with that as well"
   ]
  },
  {
   "cell_type": "code",
   "execution_count": 36,
   "metadata": {},
   "outputs": [
    {
     "data": {
      "text/plain": [
       "{'EchoTime': 0.05,\n",
       " 'FlipAngle': 90,\n",
       " 'RepetitionTime': 2.5,\n",
       " 'SliceTiming': [0.0,\n",
       "  1.2499999999999998,\n",
       "  0.08333333333333333,\n",
       "  1.333333333333333,\n",
       "  0.16666666666666666,\n",
       "  1.4166666666666663,\n",
       "  0.25,\n",
       "  1.4999999999999996,\n",
       "  0.3333333333333333,\n",
       "  1.5833333333333328,\n",
       "  0.41666666666666663,\n",
       "  1.666666666666666,\n",
       "  0.5,\n",
       "  1.7499999999999993,\n",
       "  0.5833333333333333,\n",
       "  1.8333333333333326,\n",
       "  0.6666666666666666,\n",
       "  1.9166666666666659,\n",
       "  0.75,\n",
       "  1.9999999999999991,\n",
       "  0.8333333333333333,\n",
       "  2.083333333333332,\n",
       "  0.9166666666666666,\n",
       "  2.1666666666666656,\n",
       "  1.0,\n",
       "  2.249999999999999,\n",
       "  1.0833333333333333,\n",
       "  2.333333333333332,\n",
       "  1.1666666666666665,\n",
       "  2.416666666666665],\n",
       " 'TaskName': 'finger_foot_lips'}"
      ]
     },
     "execution_count": 36,
     "metadata": {},
     "output_type": "execute_result"
    }
   ],
   "source": [
    "layout.get_metadata('/home/neuro/Data/ds000114/sub-01/ses-test/func/sub-01_ses-test_task-fingerfootlips_bold.nii.gz')"
   ]
  },
  {
   "cell_type": "markdown",
   "metadata": {},
   "source": [
    "Can we incorporate this into our pipeline? Yes, we can! To do so, let's use a `Function` node to use `BIDSLayout` in a custom way.\n",
    "(More about MapNode in [MapNode](basic_mapnodes.ipynb))"
   ]
  },
  {
   "cell_type": "code",
   "execution_count": 37,
   "metadata": {},
   "outputs": [],
   "source": [
    "def printMetadata(path, data_dir):\n",
    "    from bids.layout import BIDSLayout\n",
    "    layout = BIDSLayout(data_dir)\n",
    "    print(\"\\n\\nanalyzing \" + path + \"\\nTR: \"+ str(layout.get_metadata(path)[\"RepetitionTime\"]) + \"\\n\\n\")\n",
    "    \n",
    "analyzeBOLD2 = MapNode(Function(function=printMetadata, input_names=[\"path\", \"data_dir\"],\n",
    "                             output_names=[]), name=\"analyzeBOLD2\", iterfield=\"path\")\n",
    "analyzeBOLD2.inputs.data_dir = \"/home/neuro/Data/ds000114/\""
   ]
  },
  {
   "cell_type": "code",
   "execution_count": 38,
   "metadata": {
    "scrolled": false
   },
   "outputs": [
    {
     "name": "stdout",
     "output_type": "stream",
     "text": [
      "211102-17:01:22,830 nipype.workflow INFO:\n",
      "\t Workflow bids_demo settings: ['check', 'execution', 'logging', 'monitoring']\n",
      "211102-17:01:22,834 nipype.workflow INFO:\n",
      "\t Running serially.\n",
      "211102-17:01:22,835 nipype.workflow INFO:\n",
      "\t [Node] Setting-up \"bids_demo.bids-grabber\" in \"/tmp/tmpu7u1eyql/bids-grabber\".\n",
      "211102-17:01:22,838 nipype.workflow INFO:\n",
      "\t [Node] Running \"bids-grabber\" (\"nipype.interfaces.io.BIDSDataGrabber\")\n",
      "211102-17:01:23,24 nipype.workflow INFO:\n",
      "\t [Node] Finished \"bids_demo.bids-grabber\".\n",
      "211102-17:01:23,25 nipype.workflow INFO:\n",
      "\t [Node] Setting-up \"bids_demo.analyzeBOLD2\" in \"/tmp/tmpzdm85xwg/bids_demo/analyzeBOLD2\".\n",
      "211102-17:01:23,27 nipype.workflow INFO:\n",
      "\t [Node] Setting-up \"_analyzeBOLD20\" in \"/tmp/tmpzdm85xwg/bids_demo/analyzeBOLD2/mapflow/_analyzeBOLD20\".\n",
      "211102-17:01:23,29 nipype.workflow INFO:\n",
      "\t [Node] Running \"_analyzeBOLD20\" (\"nipype.interfaces.utility.wrappers.Function\")\n",
      "\n",
      "\n",
      "analyzing /home/neuro/Data/ds000114/sub-01/ses-retest/func/sub-01_ses-retest_task-linebisection_bold.nii.gz\n",
      "TR: 2.5\n",
      "\n",
      "\n",
      "211102-17:01:23,209 nipype.workflow INFO:\n",
      "\t [Node] Finished \"_analyzeBOLD20\".\n",
      "211102-17:01:23,210 nipype.workflow INFO:\n",
      "\t [Node] Setting-up \"_analyzeBOLD21\" in \"/tmp/tmpzdm85xwg/bids_demo/analyzeBOLD2/mapflow/_analyzeBOLD21\".\n",
      "211102-17:01:23,212 nipype.workflow INFO:\n",
      "\t [Node] Running \"_analyzeBOLD21\" (\"nipype.interfaces.utility.wrappers.Function\")\n",
      "\n",
      "\n",
      "analyzing /home/neuro/Data/ds000114/sub-01/ses-test/func/sub-01_ses-test_task-linebisection_bold.nii.gz\n",
      "TR: 2.5\n",
      "\n",
      "\n",
      "211102-17:01:23,398 nipype.workflow INFO:\n",
      "\t [Node] Finished \"_analyzeBOLD21\".\n",
      "211102-17:01:23,400 nipype.workflow INFO:\n",
      "\t [Node] Finished \"bids_demo.analyzeBOLD2\".\n"
     ]
    },
    {
     "data": {
      "text/plain": [
       "<networkx.classes.digraph.DiGraph at 0x7f0863272640>"
      ]
     },
     "execution_count": 38,
     "metadata": {},
     "output_type": "execute_result"
    }
   ],
   "source": [
    "wf = Workflow(name=\"bids_demo\")\n",
    "wf.connect(bg, \"bolds\", analyzeBOLD2, \"path\")\n",
    "wf.run()"
   ]
  },
  {
   "cell_type": "markdown",
   "metadata": {},
   "source": [
    "### Exercise 3:\n",
    "Modify the `printMetadata` function to also print `EchoTime` "
   ]
  },
  {
   "cell_type": "code",
   "execution_count": null,
   "metadata": {
    "solution2": "shown",
    "solution2_first": true
   },
   "outputs": [],
   "source": [
    "# write your solution here"
   ]
  },
  {
   "cell_type": "code",
   "execution_count": null,
   "metadata": {
    "solution2": "shown"
   },
   "outputs": [],
   "source": [
    "from nipype.pipeline import Node, MapNode, Workflow\n",
    "from nipype.interfaces.io import BIDSDataGrabber\n",
    "\n",
    "ex3_BIDSDataGrabber = Node(BIDSDataGrabber(), name='bids-grabber')\n",
    "ex3_BIDSDataGrabber.inputs.base_dir = '/data/ds000114'\n",
    "ex3_BIDSDataGrabber.inputs.subject = '01'\n",
    "ex3_BIDSDataGrabber.inputs.output_query = {'bolds': dict(suffix='bold')}"
   ]
  },
  {
   "cell_type": "code",
   "execution_count": null,
   "metadata": {
    "solution2": "shown"
   },
   "outputs": [],
   "source": [
    "# and now modify analyzeBOLD2\n",
    "def printMetadata_et(path, data_dir):\n",
    "    from bids.layout import BIDSLayout\n",
    "    layout = BIDSLayout(data_dir)\n",
    "    print(\"\\n\\nanalyzing \" + path + \"\\nTR: \"+ \n",
    "          str(layout.get_metadata(path)[\"RepetitionTime\"]) +\n",
    "          \"\\nET: \"+ str(layout.get_metadata(path)[\"EchoTime\"])+ \"\\n\\n\")\n",
    "    \n",
    "ex3_analyzeBOLD2 = MapNode(Function(function=printMetadata_et, \n",
    "                                    input_names=[\"path\", \"data_dir\"],\n",
    "                                    output_names=[]), \n",
    "                           name=\"ex3\", iterfield=\"path\")\n",
    "ex3_analyzeBOLD2.inputs.data_dir = \"/data/ds000114/\"\n",
    "\n",
    "# and create a new workflow\n",
    "ex3_wf = Workflow(name=\"ex3\")\n",
    "ex3_wf.connect(ex3_BIDSDataGrabber, \"bolds\", ex3_analyzeBOLD2, \"path\")\n",
    "ex3_wf.run()"
   ]
  },
  {
   "cell_type": "code",
   "execution_count": null,
   "metadata": {},
   "outputs": [],
   "source": []
  }
 ],
 "metadata": {
  "kernelspec": {
   "display_name": "Python 3 (ipykernel)",
   "language": "python",
   "name": "python3"
  }
 },
 "nbformat": 4,
 "nbformat_minor": 2
}
