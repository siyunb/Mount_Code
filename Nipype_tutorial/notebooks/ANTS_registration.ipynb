{
 "cells": [
  {
   "cell_type": "code",
   "execution_count": null,
   "metadata": {},
   "outputs": [],
   "source": [
    "# Import modules\n",
    "from os.path import join as opj\n",
    "from nipype.interfaces.ants import Registration\n",
    "from nipype.interfaces.utility import IdentityInterface\n",
    "from nipype.interfaces.io import SelectFiles, DataSink\n",
    "from nipype import Workflow, Node\n",
    "from nipype.interfaces.fsl import Info"
   ]
  },
  {
   "cell_type": "code",
   "execution_count": null,
   "metadata": {},
   "outputs": [],
   "source": [
    "# Specify variables\n",
    "experiment_dir = '/output'\n",
    "output_dir = 'antsdir'\n",
    "working_dir = 'workingdir'\n",
    "subject_list = ['01', '02', '03', '04', '05', '06', '07', '08', '09', '10']"
   ]
  },
  {
   "cell_type": "code",
   "execution_count": null,
   "metadata": {},
   "outputs": [],
   "source": [
    "# Location of template file\n",
    "template = '/data/ds000114/derivatives/fmriprep/mni_icbm152_nlin_asym_09c/1mm_T1.nii.gz'\n",
    "# or alternatively template = Info.standard_image('MNI152_T1_1mm.nii.gz')\n",
    "\n",
    "# Registration - computes registration between subject's anatomy & the MNI template\n",
    "antsreg = Node(Registration(args='--float',\n",
    "                            collapse_output_transforms=True,\n",
    "                            fixed_image=template,\n",
    "                            initial_moving_transform_com=True,\n",
    "                            num_threads=4,\n",
    "                            output_inverse_warped_image=True,\n",
    "                            output_warped_image=True,\n",
    "                            sigma_units=['vox'] * 3,\n",
    "                            transforms=['Rigid', 'Affine', 'SyN'],\n",
    "                            terminal_output='file',\n",
    "                            winsorize_lower_quantile=0.005,\n",
    "                            winsorize_upper_quantile=0.995,\n",
    "                            convergence_threshold=[1e-06],\n",
    "                            convergence_window_size=[10],\n",
    "                            metric=['MI', 'MI', 'CC'],\n",
    "                            metric_weight=[1.0] * 3,\n",
    "                            number_of_iterations=[[1000, 500, 250, 100],\n",
    "                                                  [1000, 500, 250, 100],\n",
    "                                                  [100, 70, 50, 20]],\n",
    "                            radius_or_number_of_bins=[32, 32, 4],\n",
    "                            sampling_percentage=[0.25, 0.25, 1],\n",
    "                            sampling_strategy=['Regular', 'Regular', 'None'],\n",
    "                            shrink_factors=[[8, 4, 2, 1]] * 3,\n",
    "                            smoothing_sigmas=[[3, 2, 1, 0]] * 3,\n",
    "                            transform_parameters=[(0.1,), (0.1,),\n",
    "                                                  (0.1, 3.0, 0.0)],\n",
    "                            use_histogram_matching=True,\n",
    "                            write_composite_transform=True),\n",
    "               name='antsreg')"
   ]
  },
  {
   "cell_type": "code",
   "execution_count": null,
   "metadata": {},
   "outputs": [],
   "source": [
    "###\n",
    "# Input & Output Stream\n",
    "\n",
    "# Infosource - a function free node to iterate over the list of subject names\n",
    "infosource = Node(IdentityInterface(fields=['subject_id']),\n",
    "                  name=\"infosource\")\n",
    "infosource.iterables = [('subject_id', subject_list)]\n",
    "\n",
    "# SelectFiles - to grab the data (alternative to DataGrabber)\n",
    "anat_file = opj('sub-{subject_id}', 'ses-test', 'anat', 'sub-{subject_id}_ses-test_T1w.nii.gz')\n",
    "templates = {'anat': anat_file}\n",
    "\n",
    "selectfiles = Node(SelectFiles(templates,\n",
    "                               base_directory='/data/ds000114'),\n",
    "                   name=\"selectfiles\")\n",
    "\n",
    "# Datasink - creates output folder for important outputs\n",
    "datasink = Node(DataSink(base_directory=experiment_dir,\n",
    "                         container=output_dir),\n",
    "                name=\"datasink\")\n",
    "\n",
    "# Use the following DataSink output substitutions\n",
    "substitutions = [('_subject_id_', '')]\n",
    "datasink.inputs.substitutions = substitutions\n",
    "\n",
    "###\n",
    "# Specify Normalization Workflow & Connect Nodes\n",
    "\n",
    "# Initiation of the ANTS normalization workflow\n",
    "regflow = Workflow(name='regflow')\n",
    "regflow.base_dir = opj(experiment_dir, working_dir)\n",
    "\n",
    "# Connect workflow nodes\n",
    "regflow.connect([(infosource, selectfiles, [('subject_id', 'subject_id')]),\n",
    "                 (selectfiles, antsreg, [('anat', 'moving_image')]),\n",
    "                 (antsreg, datasink, [('warped_image',\n",
    "                                       'antsreg.@warped_image'),\n",
    "                                      ('inverse_warped_image',\n",
    "                                       'antsreg.@inverse_warped_image'),\n",
    "                                      ('composite_transform',\n",
    "                                       'antsreg.@transform'),\n",
    "                                      ('inverse_composite_transform',\n",
    "                                       'antsreg.@inverse_transform')]),\n",
    "                 ])"
   ]
  },
  {
   "cell_type": "code",
   "execution_count": null,
   "metadata": {},
   "outputs": [],
   "source": [
    "###\n",
    "# Run Workflow\n",
    "regflow.write_graph(graph2use='flat')\n",
    "regflow.run('Linear')"
   ]
  }
 ],
 "metadata": {
  "language_info": {
   "name": "python"
  },
  "orig_nbformat": 4
 },
 "nbformat": 4,
 "nbformat_minor": 2
}
